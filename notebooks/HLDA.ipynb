{
 "cells": [
  {
   "cell_type": "code",
   "execution_count": 53,
   "id": "8717da1b",
   "metadata": {
    "tags": []
   },
   "outputs": [],
   "source": [
    "#!pip install tomotopy"
   ]
  },
  {
   "cell_type": "code",
   "execution_count": 54,
   "id": "40abeb33",
   "metadata": {
    "tags": []
   },
   "outputs": [],
   "source": [
    "import tomotopy as tp\n",
    "import pickle\n",
    "import time as timer\n",
    "import pathlib\n",
    "import numpy as np\n",
    "from tqdm import tqdm\n",
    "import pandas as pd\n",
    "from sklearn.feature_extraction.text import CountVectorizer"
   ]
  },
  {
   "cell_type": "code",
   "execution_count": 15,
   "id": "79efaf19-e20d-4d9f-99a0-f2b70fce2d08",
   "metadata": {
    "tags": []
   },
   "outputs": [],
   "source": [
    "def mallet_corpus_to_df(corpusFile: pathlib.Path):\n",
    "    \"\"\"Converts a Mallet corpus file (i.e., file required for the Mallet import command) to a pandas DataFrame\n",
    "\n",
    "    Parameters\n",
    "    ----------\n",
    "    corpusFile: pathlib.Path\n",
    "        Path to the Mallet corpus file\n",
    "\n",
    "    Returns\n",
    "    -------\n",
    "    :   pandas.DataFrame\n",
    "        DataFrame with the corpus\n",
    "    \"\"\"\n",
    "\n",
    "    corpus = [line.rsplit(' 0 ')[1].strip() for line in open(\n",
    "        corpusFile, encoding=\"utf-8\").readlines()]\n",
    "    indexes = [line.rsplit(' 0 ')[0].strip() for line in open(\n",
    "        corpusFile, encoding=\"utf-8\").readlines()]\n",
    "    corpus_dict = {\n",
    "        'id': indexes,\n",
    "        'text': corpus\n",
    "    }\n",
    "    return pd.DataFrame(corpus_dict)"
   ]
  },
  {
   "cell_type": "code",
   "execution_count": 17,
   "id": "0b23bb68",
   "metadata": {
    "tags": []
   },
   "outputs": [
    {
     "data": {
      "text/html": [
       "<div>\n",
       "<style scoped>\n",
       "    .dataframe tbody tr th:only-of-type {\n",
       "        vertical-align: middle;\n",
       "    }\n",
       "\n",
       "    .dataframe tbody tr th {\n",
       "        vertical-align: top;\n",
       "    }\n",
       "\n",
       "    .dataframe thead th {\n",
       "        text-align: right;\n",
       "    }\n",
       "</style>\n",
       "<table border=\"1\" class=\"dataframe\">\n",
       "  <thead>\n",
       "    <tr style=\"text-align: right;\">\n",
       "      <th></th>\n",
       "      <th>id</th>\n",
       "      <th>text</th>\n",
       "    </tr>\n",
       "  </thead>\n",
       "  <tbody>\n",
       "    <tr>\n",
       "      <th>0</th>\n",
       "      <td>100016</td>\n",
       "      <td>methods processes embedded_systems embed criti...</td>\n",
       "    </tr>\n",
       "    <tr>\n",
       "      <th>1</th>\n",
       "      <td>115153</td>\n",
       "      <td>rapid point_care platforms infectious_diseases...</td>\n",
       "    </tr>\n",
       "    <tr>\n",
       "      <th>2</th>\n",
       "      <td>115632</td>\n",
       "      <td>recognise adverse drug reactions regulatory_ag...</td>\n",
       "    </tr>\n",
       "    <tr>\n",
       "      <th>3</th>\n",
       "      <td>115861</td>\n",
       "      <td>vaccine phase_ii sofia_ref main_objective exte...</td>\n",
       "    </tr>\n",
       "    <tr>\n",
       "      <th>4</th>\n",
       "      <td>116030</td>\n",
       "      <td>translational quantitative toxicology medicine...</td>\n",
       "    </tr>\n",
       "    <tr>\n",
       "      <th>...</th>\n",
       "      <td>...</td>\n",
       "      <td>...</td>\n",
       "    </tr>\n",
       "    <tr>\n",
       "      <th>65571</th>\n",
       "      <td>190119289</td>\n",
       "      <td>early_detection skin_cancer endure detect skin...</td>\n",
       "    </tr>\n",
       "    <tr>\n",
       "      <th>65572</th>\n",
       "      <td>190134697</td>\n",
       "      <td>water_vapor turbo compression thermal cool maj...</td>\n",
       "    </tr>\n",
       "    <tr>\n",
       "      <th>65573</th>\n",
       "      <td>190151860</td>\n",
       "      <td>geotechnical genetic inverse poor track_record...</td>\n",
       "    </tr>\n",
       "    <tr>\n",
       "      <th>65574</th>\n",
       "      <td>190161902</td>\n",
       "      <td>artificial_intelligence musical preserve prese...</td>\n",
       "    </tr>\n",
       "    <tr>\n",
       "      <th>65575</th>\n",
       "      <td>190185259</td>\n",
       "      <td>gps free visual line_sight navigation logistic...</td>\n",
       "    </tr>\n",
       "  </tbody>\n",
       "</table>\n",
       "<p>65576 rows × 2 columns</p>\n",
       "</div>"
      ],
      "text/plain": [
       "              id                                               text\n",
       "0         100016  methods processes embedded_systems embed criti...\n",
       "1         115153  rapid point_care platforms infectious_diseases...\n",
       "2         115632  recognise adverse drug reactions regulatory_ag...\n",
       "3         115861  vaccine phase_ii sofia_ref main_objective exte...\n",
       "4         116030  translational quantitative toxicology medicine...\n",
       "...          ...                                                ...\n",
       "65571  190119289  early_detection skin_cancer endure detect skin...\n",
       "65572  190134697  water_vapor turbo compression thermal cool maj...\n",
       "65573  190151860  geotechnical genetic inverse poor track_record...\n",
       "65574  190161902  artificial_intelligence musical preserve prese...\n",
       "65575  190185259  gps free visual line_sight navigation logistic...\n",
       "\n",
       "[65576 rows x 2 columns]"
      ]
     },
     "execution_count": 17,
     "metadata": {},
     "output_type": "execute_result"
    }
   ],
   "source": [
    "path_corpus = pathlib.Path(\"/export/usuarios_ml4ds/lbartolome/Datasets/CORDIS/models_preproc/iter_0/corpus.txt\")\n",
    "df = mallet_corpus_to_df(path_corpus)\n",
    "df"
   ]
  },
  {
   "cell_type": "code",
   "execution_count": 20,
   "id": "c32bd499-83fe-460c-b2d3-23811e5d64fa",
   "metadata": {},
   "outputs": [
    {
     "name": "stderr",
     "output_type": "stream",
     "text": [
      "/home/lbartolome/.local/lib/python3.10/site-packages/sklearn/feature_extraction/text.py:525: UserWarning: The parameter 'token_pattern' will not be used since 'tokenizer' is not None'\n",
      "  warnings.warn(\n"
     ]
    }
   ],
   "source": [
    "model_path = \"/export/usuarios_ml4ds/lbartolome/Datasets/CORDIS/models_preproc/iter_0\"\n",
    "vocab_w2id = {}\n",
    "with (pathlib.Path(model_path)/'vocabulary.txt').open('r', encoding='utf8') as fin:\n",
    "    for i, line in enumerate(fin):\n",
    "        wd = line.strip()\n",
    "        vocab_w2id[wd] = i\n",
    "\n",
    "vectorizer = CountVectorizer(vocabulary=vocab_w2id.keys(), tokenizer=lambda x: x.split())\n",
    "bow = vectorizer.fit_transform(df.text.values.tolist())\n",
    "bow = bow.toarray()"
   ]
  },
  {
   "cell_type": "code",
   "execution_count": 4,
   "id": "8022419f",
   "metadata": {
    "tags": []
   },
   "outputs": [],
   "source": [
    "df_lemas = df[[\"text\"]].values.tolist()"
   ]
  },
  {
   "cell_type": "code",
   "execution_count": 9,
   "id": "dadb966d",
   "metadata": {},
   "outputs": [],
   "source": [
    "tw = tp.TermWeight.ONE # term weighting scheme in TermWeight\n",
    "min_cf = 0             # minimum collection frequency of words.\n",
    "min_df = 0             # minimum document frequency of words.\n",
    "rm_top = 0             # the number of top words to be removed. \n",
    "depth = 4              # the maximum depth level of hierarchy between 2 ~ 32767\n",
    "alpha = 10.0           # hyperparameter of Dirichlet distribution for document-depth level\n",
    "eta = 0.1              # hyperparameter of Dirichlet distribution for topic-word\n",
    "gamma = 1.0            # concentration coeficient of Dirichlet Process\n",
    "seed = None            # random seed\n",
    "mycorpus = df_lemas  \n",
    "transform = None       # a callable object to manipulate arbitrary keyword arguments for a specific topic model"
   ]
  },
  {
   "cell_type": "code",
   "execution_count": null,
   "id": "b71dd5c6",
   "metadata": {},
   "outputs": [
    {
     "name": "stdout",
     "output_type": "stream",
     "text": [
      "LLEGA 1\n",
      "LLEGA 2\n",
      "LLEGA 3\n",
      "Num docs:65576, Num Vocabs:20374, Total Words:4497518\n",
      "Iteration: 0000, LL per word: -9.169\n",
      "Iteration: 0020, LL per word: -8.102\n",
      "Iteration: 0040, LL per word: -8.055\n"
     ]
    }
   ],
   "source": [
    "mdl = tp.HLDAModel(tw = tp.TermWeight.ONE , min_cf= 0, min_df= 0, rm_top = 0, depth = 2, alpha = 10.0, eta = 0.1, gamma = 1.0)\n",
    "\n",
    "print(\"LLEGA 1\")\n",
    "for texts in mycorpus:\n",
    "    mdl.add_doc(texts[0].split())\n",
    "print(\"LLEGA 2\")\n",
    "mdl.train(0)\n",
    "print(\"LLEGA 3\")\n",
    "print('Num docs:{}, Num Vocabs:{}, Total Words:{}'.format(\n",
    "    len(mdl.docs), len(mdl.used_vocabs), mdl.num_words))\n",
    "\n",
    "# Let's train the model\n",
    "for i in range(0, 1000, 20):\n",
    "    print('Iteration: {:04}, LL per word: {:.4}'.format(i, mdl.ll_per_word))\n",
    "    mdl.train(20)\n",
    "print('Iteration: {:04}, LL per word: {:.4}'.format(1000, mdl.ll_per_word))\n",
    "\n",
    "mdl.summary()\n"
   ]
  },
  {
   "cell_type": "code",
   "execution_count": null,
   "id": "f3404137",
   "metadata": {},
   "outputs": [],
   "source": [
    "for k in range(mdl.k):\n",
    "    if not mdl.is_live_topic(k): continue\n",
    "    print('Top 10 words of topic #{}'.format(k))\n",
    "    print(mdl.get_topic_words(k, top_n=15))"
   ]
  },
  {
   "cell_type": "code",
   "execution_count": null,
   "id": "1e066911",
   "metadata": {},
   "outputs": [],
   "source": [
    "#save lda model for reuse\n",
    "hlda_save = 'hlda.bin'\n",
    "mdl.save(hlda_save)"
   ]
  },
  {
   "cell_type": "code",
   "execution_count": null,
   "id": "0828bffc",
   "metadata": {
    "tags": []
   },
   "outputs": [],
   "source": [
    "#load and print\n",
    "#mdl = tp.HLDAModel.load(hlda_save) \n",
    "#for k in range(mdl.k):\n",
    "#    if not mdl.is_live_topic(k): continue\n",
    "#    print('Top 10 words of topic #{}'.format(k))\n",
    "#    print(mdl.get_topic_words(k, top_n=10))"
   ]
  },
  {
   "cell_type": "code",
   "execution_count": 119,
   "id": "21473dee-1acd-4d74-b942-ae9f90cef742",
   "metadata": {
    "tags": []
   },
   "outputs": [],
   "source": [
    "betas_ = np.load('/export/usuarios_ml4ds/lbartolome/Datasets/CORDIS/htm_variability_models/htm_6_tpcs_20230922/TMmodel/betas.npy')"
   ]
  },
  {
   "cell_type": "code",
   "execution_count": 123,
   "id": "3d75759f-7379-41e8-93c6-263373213c3a",
   "metadata": {
    "tags": []
   },
   "outputs": [
    {
     "data": {
      "text/plain": [
       "array([[8.38666805e-05, 4.13074700e-05, 1.00000000e-12, ...,\n",
       "        1.87761233e-05, 3.00417966e-05, 1.00000000e-12],\n",
       "       [9.97873293e-05, 2.49468331e-05, 7.10984724e-05, ...,\n",
       "        1.00000000e-12, 1.00000000e-12, 1.00000000e-12],\n",
       "       [1.14584453e-04, 4.86983932e-05, 1.00000000e-12, ...,\n",
       "        1.00000000e-12, 1.00000000e-12, 3.43753367e-05],\n",
       "       [1.00000000e-12, 1.00000000e-12, 1.00000000e-12, ...,\n",
       "        1.00000000e-12, 1.00000000e-12, 1.00000000e-12],\n",
       "       [3.41553395e-05, 1.30115576e-04, 1.00000000e-12, ...,\n",
       "        1.00000000e-12, 1.00000000e-12, 1.00000000e-12],\n",
       "       [3.71241193e-05, 1.00000000e-12, 1.00000000e-12, ...,\n",
       "        1.00000000e-12, 1.00000000e-12, 1.00000000e-12]])"
      ]
     },
     "execution_count": 123,
     "metadata": {},
     "output_type": "execute_result"
    }
   ],
   "source": [
    "betas_"
   ]
  },
  {
   "cell_type": "code",
   "execution_count": 55,
   "id": "3f6c729f-53e0-4799-94b1-2cdf40ec8c6d",
   "metadata": {
    "tags": []
   },
   "outputs": [],
   "source": [
    "mdl = tp.HDPModel.load(\"/export/usuarios_ml4ds/lbartolome/Repos/my_repos/UserInLoopHTM/data/models/hdp/cancer/run1.bin\") "
   ]
  },
  {
   "cell_type": "code",
   "execution_count": 36,
   "id": "8c4fe92a-888f-4b48-9e45-12baf787f129",
   "metadata": {
    "tags": []
   },
   "outputs": [
    {
     "data": {
      "text/plain": [
       "20374"
      ]
     },
     "execution_count": 36,
     "metadata": {},
     "output_type": "execute_result"
    }
   ],
   "source": [
    "len(mdl.vocabs)"
   ]
  },
  {
   "cell_type": "code",
   "execution_count": 56,
   "id": "59b1e70c-c069-4deb-ae6b-e0e8fc132ef4",
   "metadata": {
    "tags": []
   },
   "outputs": [
    {
     "data": {
      "text/plain": [
       "28"
      ]
     },
     "execution_count": 56,
     "metadata": {},
     "output_type": "execute_result"
    }
   ],
   "source": [
    "mdl.k"
   ]
  },
  {
   "cell_type": "code",
   "execution_count": 38,
   "id": "83c5d51d-c514-4422-a53a-a64d68770ef5",
   "metadata": {
    "tags": []
   },
   "outputs": [
    {
     "data": {
      "text/plain": [
       "(96, 20374)"
      ]
     },
     "execution_count": 38,
     "metadata": {},
     "output_type": "execute_result"
    }
   ],
   "source": [
    "np.array([mdl.get_topic_word_dist(el) for el in range(mdl.k)]).shape"
   ]
  },
  {
   "cell_type": "code",
   "execution_count": 39,
   "id": "dd4adf7d-aafa-4950-9485-833a15c73ccb",
   "metadata": {
    "tags": []
   },
   "outputs": [
    {
     "data": {
      "text/plain": [
       "(96, 20374)"
      ]
     },
     "execution_count": 39,
     "metadata": {},
     "output_type": "execute_result"
    }
   ],
   "source": [
    "betas = []\n",
    "for el in range(mdl.k):\n",
    "    betas_i = mdl.get_topic_word_dist(el)\n",
    "    betas.append(betas_i)\n",
    "betas = np.array(betas)\n",
    "betas.shape"
   ]
  },
  {
   "cell_type": "code",
   "execution_count": 40,
   "id": "2ba6540f-d2b2-4897-8368-5c6142de5a39",
   "metadata": {
    "tags": []
   },
   "outputs": [
    {
     "data": {
      "text/plain": [
       "array([[ 8.81692984e-04,  2.59725790e-02,  4.59628272e-02, ...,\n",
       "        -5.19945132e-07, -5.15196468e-07, -5.21960272e-07],\n",
       "       [-4.89315327e-05, -6.56981603e-05, -5.23421798e-05, ...,\n",
       "         6.82128010e-05,  7.03226895e-05,  6.73174500e-05],\n",
       "       [-4.89315327e-05, -6.56981603e-05, -5.23421798e-05, ...,\n",
       "         6.82128010e-05,  7.03226895e-05,  6.73174500e-05],\n",
       "       ...,\n",
       "       [-4.89315327e-05, -6.56981603e-05, -5.23421798e-05, ...,\n",
       "         6.82128010e-05,  7.03226895e-05,  6.73174500e-05],\n",
       "       [-4.89315327e-05, -6.56981603e-05, -5.23421798e-05, ...,\n",
       "         6.82128010e-05,  7.03226895e-05,  6.73174500e-05],\n",
       "       [-4.89315327e-05, -6.56981603e-05, -5.23421798e-05, ...,\n",
       "         6.82128010e-05,  7.03226895e-05,  6.73174500e-05]])"
      ]
     },
     "execution_count": 40,
     "metadata": {},
     "output_type": "execute_result"
    }
   ],
   "source": [
    "betas_ds = np.copy(betas)\n",
    "if np.min(betas_ds) < 1e-12:\n",
    "    betas_ds += 1e-12\n",
    "deno = np.reshape((sum(np.log(betas_ds)) / mdl.k), (len(mdl.vocabs), 1))\n",
    "deno = np.ones((mdl.k, 1)).dot(deno.T)\n",
    "betas_ds = betas_ds * (np.log(betas_ds) - deno)\n",
    "betas_ds"
   ]
  },
  {
   "cell_type": "code",
   "execution_count": 41,
   "id": "faa7e754-c7ff-4c58-9bd5-14e70a26f9ee",
   "metadata": {},
   "outputs": [],
   "source": [
    "vocab_w2id = {}\n",
    "vocab_id2w = {}\n",
    "for i, wd in enumerate(mdl.vocabs):\n",
    "    vocab_w2id[wd] = i\n",
    "    vocab_id2w[str(i)] = wd"
   ]
  },
  {
   "cell_type": "code",
   "execution_count": 42,
   "id": "b97728ac-fc61-4eb8-b8ae-23baf7408068",
   "metadata": {},
   "outputs": [],
   "source": [
    "n_words = 15\n",
    "tpc_descs = []\n",
    "for i in range(mdl.k):\n",
    "    words = [mdl.vocabs[idx2] for idx2 in np.argsort(betas_ds[i])[::-1][0:n_words]]\n",
    "    tpc_descs.append((i, ', '.join(words)))\n"
   ]
  },
  {
   "cell_type": "code",
   "execution_count": 57,
   "id": "811bc2a2-6141-40f1-bbc1-209cb92e1591",
   "metadata": {
    "tags": []
   },
   "outputs": [
    {
     "name": "stdout",
     "output_type": "stream",
     "text": [
      "0: [('p', 0.0131168682128191), ('resection', 0.010004081763327122), ('radiotherapy', 0.009040066972374916), ('follow', 0.008683649823069572), ('metastasis', 0.008545225486159325), ('liver', 0.007927361875772476), ('recurrence', 0.007178408093750477), ('association', 0.006843074690550566), ('complication', 0.006355567369610071), ('perform', 0.006251612212508917)]\n",
      "1: [('diagnosis', 0.014050409197807312), ('rare', 0.008448166772723198), ('metastasis', 0.00786814745515585), ('mass', 0.005724803544580936), ('reveal', 0.005365085322409868), ('association', 0.005278328899294138), ('cutaneous', 0.005275866016745567), ('lung', 0.005232677329331636), ('cystic', 0.005156717728823423), ('finding', 0.004942099563777447)]\n",
      "2: [('breast', 0.009248296730220318), ('pain', 0.008121589198708534), ('intervention', 0.00781586766242981), ('woman', 0.0076530976220965385), ('symptom', 0.006865671370178461), ('association', 0.006745707709342241), ('quality_life', 0.006426509469747543), ('survivor', 0.00584968039765954), ('p', 0.005777543410658836), ('need', 0.005751912482082844)]\n",
      "3: [('gene', 0.037450551986694336), ('association', 0.02504548616707325), ('polymorphism', 0.014565285295248032), ('p', 0.00984968151897192), ('control', 0.009791034273803234), ('genotype', 0.009433516301214695), ('colorectal_cancer', 0.009394587948918343), ('deoxyribonucleic_acid', 0.009129779413342476), ('methylation', 0.007043828722089529), ('breast', 0.006983644794672728)]\n",
      "4: [('p', 0.016110675409436226), ('association', 0.013557140715420246), ('prognosis', 0.013347659260034561), ('tissue', 0.012688950635492802), ('metastasis', 0.010984220542013645), ('breast', 0.009861250407993793), ('protein', 0.009673528373241425), ('marker', 0.007851495407521725), ('gene', 0.0074315438978374004), ('prediction', 0.006893895100802183)]\n",
      "5: [('imaging', 0.008983690291643143), ('follow', 0.008489927276968956), ('nuclear_magnetic_resonance', 0.0061040217988193035), ('reconstruction', 0.0053571732714772224), ('diagnosis', 0.0052928682416677475), ('perform', 0.005230423994362354), ('complication', 0.005188450217247009), ('resection', 0.005110704805701971), ('radiotherapy', 0.005027790553867817), ('cerebral', 0.0048935976810753345)]\n",
      "6: [('chemotherapy', 0.01675630919635296), ('metastasis', 0.011217091232538223), ('toxicity', 0.009999962523579597), ('combination', 0.008563467301428318), ('p', 0.0072470493614673615), ('radiotherapy', 0.006950064096599817), ('progression', 0.006920211017131805), ('lung', 0.006324251182377338), ('regimen', 0.006280466448515654), ('agent', 0.006277149077504873)]\n",
      "7: [('gene', 0.022817056626081467), ('protein', 0.015558268874883652), ('deoxyribonucleic_acid', 0.013053074479103088), ('regulation', 0.008818702772259712), ('mouse', 0.007599411532282829), ('association', 0.005421163979917765), ('transcription', 0.005127523560076952), ('differentiation', 0.0051112729124724865), ('bind', 0.004548931494355202), ('interaction', 0.0038794318679720163)]\n",
      "8: [('gene', 0.014922108501195908), ('lymphoma', 0.014569910243153572), ('b', 0.00997832603752613), ('acute_myelogenous_leukemia', 0.009204543195664883), ('association', 0.008867833763360977), ('diagnosis', 0.007995856925845146), ('prognosis', 0.0075928582809865475), ('t', 0.006986966356635094), ('p', 0.006779117044061422), ('molecular', 0.005436613690108061)]\n",
      "9: [('imaging', 0.025501450523734093), ('radiotherapy', 0.012104878202080727), ('tissue', 0.008810401894152164), ('planning', 0.00861552357673645), ('computed_tomography', 0.007917278446257114), ('breast', 0.005458717700093985), ('nuclear_magnetic_resonance', 0.005203959997743368), ('time', 0.005003468599170446), ('lung', 0.00484761968255043), ('different', 0.004535922314971685)]\n",
      "10: [('p', 0.010826438665390015), ('control', 0.009118122979998589), ('association', 0.009054185822606087), ('serum', 0.008374855853617191), ('concentration', 0.00679197208955884), ('insulin', 0.005716587882488966), ('woman', 0.00551079073920846), ('metabolic', 0.005339848343282938), ('decrease', 0.005029487423598766), ('plasma', 0.00469737034291029)]\n",
      "11: [('compound', 0.012469593435525894), ('inhibitor', 0.01031634584069252), ('deoxyribonucleic_acid', 0.009009504690766335), ('drug', 0.008693678304553032), ('protein', 0.008271080441772938), ('potential', 0.005408432800322771), ('synthesis', 0.0052373893558979034), ('new', 0.0052026621997356415), ('structure', 0.0050478591583669186), ('metabolic', 0.004994818475097418)]\n",
      "12: [('drug', 0.01489128079265356), ('imaging', 0.010679375380277634), ('delivery', 0.008850240148603916), ('vivo', 0.0065349494107067585), ('therapeutic', 0.005193293560296297), ('tissue', 0.004826218821108341), ('mouse', 0.004702222533524036), ('potential', 0.004673113580793142), ('agent', 0.0043916646391153336), ('uptake', 0.004227407276630402)]\n",
      "13: [('transplant', 0.011709751561284065), ('association', 0.009909647516906261), ('p', 0.007011581212282181), ('diagnosis', 0.005498277023434639), ('liver', 0.005198000464588404), ('follow', 0.005180723033845425), ('child', 0.004176748916506767), ('drug', 0.003965795040130615), ('lung', 0.0038859746418893337), ('control', 0.0038377714809030294)]\n",
      "14: [('mouse', 0.014145215041935444), ('rat', 0.009440132416784763), ('inhibitor', 0.009419286623597145), ('protein', 0.008737490512430668), ('inflammatory', 0.007435003761202097), ('liver', 0.007385233882814646), ('apoptotic', 0.006852487102150917), ('tumor_necrosis_factor', 0.006240134593099356), ('decrease', 0.006187889259308577), ('reduce', 0.006084310356527567)]\n",
      "15: [('imaging', 0.027932189404964447), ('computed_tomography', 0.022814776748418808), ('positron_emission_tomography', 0.02191253751516342), ('nuclear_magnetic_resonance', 0.015197141095995903), ('diagnosis', 0.012163479812443256), ('p', 0.00876078475266695), ('metastasis', 0.008170376531779766), ('biopsy', 0.007399985566735268), ('breast', 0.00683864438906312), ('evaluate', 0.006186614278703928)]\n",
      "16: [('protein', 0.020037781447172165), ('inhibitor', 0.01288364827632904), ('regulation', 0.012554881162941456), ('activation', 0.009918887168169022), ('gene', 0.00827848445624113), ('apoptotic', 0.008227718062698841), ('kinase', 0.007900731638073921), ('bind', 0.005709668155759573), ('activate', 0.0054382821545004845), ('association', 0.005429121665656567)]\n",
      "17: [('association', 0.019974838942289352), ('mortality', 0.013001354411244392), ('age', 0.012480262666940689), ('woman', 0.010604949668049812), ('incidence', 0.010507357306778431), ('breast', 0.009511401876807213), ('exposure', 0.009376827627420425), ('population', 0.009103569202125072), ('lung', 0.007928094826638699), ('control', 0.007192556746304035)]\n",
      "18: [('inhibitor', 0.020345713943243027), ('apoptotic', 0.017373913899064064), ('proliferation', 0.013251887634396553), ('protein', 0.012878035195171833), ('regulation', 0.010499943047761917), ('gene', 0.009686807170510292), ('invasion', 0.009020146913826466), ('metastasis', 0.008901490829885006), ('tissue', 0.007960756309330463), ('hepatocellular_carcinoma', 0.007928254082798958)]\n",
      "19: [('t', 0.02729843743145466), ('mouse', 0.012194165959954262), ('immune', 0.011613885872066021), ('dendritic_cells', 0.008992727845907211), ('antigen', 0.007655261550098658), ('lymphocyte', 0.007275896146893501), ('b', 0.005988834425806999), ('protein', 0.0058313035406172276), ('cytokine', 0.0056945523247122765), ('gene', 0.0053980243392288685)]\n",
      "20: [('gene', 0.02729724906384945), ('protein', 0.008341866545379162), ('biomarker', 0.007594299968332052), ('molecular', 0.007585892453789711), ('micro_rna', 0.007207788992673159), ('prediction', 0.007059023249894381), ('association', 0.006869154050946236), ('potential', 0.006171098910272121), ('tissue', 0.005842739716172218), ('prognosis', 0.0058140140026807785)]\n",
      "21: [('hydrochloride', 0.019912397488951683), ('drug', 0.01858508214354515), ('follow', 0.01539952214807272), ('gateway', 0.013806742615997791), ('insulin', 0.010886646807193756), ('trials', 0.008232015185058117), ('melatonin', 0.007170162163674831), ('issue', 0.007170162163674831), ('retrieve', 0.00690469890832901), ('science', 0.00690469890832901)]\n",
      "22: [('m', 0.011461758986115456), ('department', 0.011347825638949871), ('s', 0.008978022262454033), ('j', 0.008841303177177906), ('hospital', 0.008761550299823284), ('transplant', 0.008681797422468662), ('oncology', 0.007576648611575365), ('c', 0.006494286470115185), ('university', 0.0063803535886108875), ('institute', 0.006346173584461212)]\n",
      "23: [('human_papillomavirus', 0.031488530337810516), ('woman', 0.030512230470776558), ('breast', 0.017084060236811638), ('cervical', 0.0165571216493845), ('screening', 0.013001255691051483), ('age', 0.010267514735460281), ('association', 0.009057017974555492), ('ovarian_cancer', 0.00872036162763834), ('diagnosis', 0.007384473457932472), ('follow', 0.006146654020994902)]\n",
      "24: [('ilt', 0.01190301962196827), ('hbv_reactivation', 0.007328453939408064), ('nimesulide', 0.006413540802896023), ('acetic_acid', 0.003668801626190543), ('eicosanoid', 0.003668801626190543), ('extent', 0.003668801626190543), ('clt', 0.003668801626190543), ('tungsten', 0.003668801626190543), ('dlr', 0.003668801626190543), ('turkey', 0.0027538882568478584)]\n",
      "25: [('screening', 0.013183622620999813), ('colorectal_cancer', 0.008081491105258465), ('diagnosis', 0.0064994292333722115), ('cost', 0.005846633575856686), ('time', 0.004702033940702677), ('colonoscopy', 0.004588252864778042), ('breast', 0.004263893235474825), ('population', 0.003906587604433298), ('new', 0.003867868334054947), ('association', 0.0038665097672492266)]\n",
      "26: [('ablation', 0.015208574943244457), ('imaging', 0.010807854123413563), ('follow', 0.009215017780661583), ('woman', 0.008750440552830696), ('p', 0.00823991559445858), ('complication', 0.008153126575052738), ('nuclear_magnetic_resonance', 0.008035706356167793), ('fibroid', 0.007091235835105181), ('mean', 0.007075920235365629), ('perform', 0.007004446815699339)]\n",
      "27: [('mexiletine', 9.999999747378752e-06), ('ctsc', 9.999999747378752e-06), ('psychosine', 9.999999747378752e-06), ('comm', 9.999999747378752e-06), ('soyfood', 9.999999747378752e-06), ('biomass_fuel', 9.999999747378752e-06), ('mtfs', 9.999999747378752e-06), ('rehemorrhage', 9.999999747378752e-06), ('alpha_mangostin', 9.999999747378752e-06), ('wagr', 9.999999747378752e-06)]\n"
     ]
    }
   ],
   "source": [
    "for i in range(mdl.k):\n",
    "    print(f\"{str(i)}: {mdl.get_topic_words(i)}\")"
   ]
  },
  {
   "cell_type": "code",
   "execution_count": 44,
   "id": "d677d177-ab83-41ed-936c-c99e8dd68c36",
   "metadata": {
    "tags": []
   },
   "outputs": [
    {
     "data": {
      "text/plain": [
       "[(7,\n",
       "  'microtubule_mt, supersymmetric_gauge, place_september, supernova_explosion, astrophysical_phenomenon, atlantic_meridional, diagnostic_audit, coach_client, astrophysical_object, nucleosomes, arab_spring, calcium_image, resect, science_cafã, historiographic'),\n",
       " (8,\n",
       "  'cellular, genetic, protein, cancer, deoxyribonucleic_acid, disease, mechanism, molecule, ribonucleic_acid, genomic, signal, control, pathway, tissue, novel'),\n",
       " (9,\n",
       "  'quantum, molecule, electric, optic, spin, control, light, atom, magnetic, novel, interaction, electron, energy, photonic, surface'),\n",
       " (10,\n",
       "  'galaxy, particle, energy, universe, observation, star, evolution, mass, dark_matter, search, detector, measurement, solar, formation, large_hadron_collider'),\n",
       " (11,\n",
       "  'energy, battery, fuel, cellular, electric, efficiency, carbon_dioxide, emission, hydrogen, vehicle, component, solar, plant, heat, reduction'),\n",
       " (12,\n",
       "  'patient, cancer, therapeutic, treatment, cellular, clinical, disease, drug, tumor, diagnosis, biomarker, novel, genetic, molecule, clinical_trial'),\n",
       " (13,\n",
       "  'aircraft, control, composite, component, engine, flow, electric, flight, structure, noise, reduction, sensor, emission, surface, energy'),\n",
       " (14,\n",
       "  'language, linguistic, speech, cognitive, child, semantic, word, translation, machine_translation, interaction, infant, multilingual, computation, meaning, brain'),\n",
       " (15,\n",
       "  'quantum, conjecture, geometry, geometric, graph, computation, number, equation, classical, algebraic, class, prove, topology, mathematic, general'),\n",
       " (16,\n",
       "  'brain, neuronal, cellular, mechanism, visual, cognitive, functional, circuit, sensory, imaging, control, signal, cortical, neuroscience, motor'),\n",
       " (17,\n",
       "  'climate, climate_change, water, soil, ocean, carbon, biodiversity, forest, marine, land, earth, specie, ecological, response, plant'),\n",
       " (18,\n",
       "  'farming, agriculture, crop, food, plant, water, soil, health, disease, organic, animal, pest, control, seed, pesticide'),\n",
       " (19,\n",
       "  'g, computation, mobile, control, need, scalability, wireless, heterogeneous, hardware, embed, energy, component, layer, critical, code'),\n",
       " (20,\n",
       "  'need, help, main, different, health, co, place, way, follow, call, successful, number, connect, value, food'),\n",
       " (21,\n",
       "  'civitas, body, radicalisation, ui, mass_index, grid, environmental_justice, dare, elevate, irish, social_housing, olive_oil, eastern_mediterranean, needs, neighborhood'),\n",
       " (22,\n",
       "  'satellite, orbit, spacecraft, payload, space_mission, thruster, small_satellite, propulsion, earth, flight, earth_observation, ground, electric, operation, electric_propulsion'),\n",
       " (23,\n",
       "  'catalysis, reaction, chemical, synthesis, molecule, carbon_dioxide, energy, novel, synthetic, enzyme, metal, polymer, fuel, compound, carbon'),\n",
       " (24,\n",
       "  'water, waste, food, treatment, produce, energy, plant, chemical, wastewater, packaging, biomass, plastic, bio_base, carbon_dioxide, agriculture'),\n",
       " (25,\n",
       "  'way, different, language, place, right, value, produce, family, source, seek, literature, concern, insight, past, play'),\n",
       " (26,\n",
       "  'optic, laser, photonic, sensor, electric, chip, circuit, semiconductor, component, novel, sensing, source, fabrication, light, risk_factor'),\n",
       " (27,\n",
       "  'animal, animal_welfare, insect, bat, forage, egg, behaviour, fodder, artwork, ant, lean, navigation, incubation, prey, hunting'),\n",
       " (28,\n",
       "  'genetic, evolution, plant, genomic, specie, population, trait, molecule, cellular, adaptation, disease, mechanism, pathogen, interaction, variation'),\n",
       " (29,\n",
       "  'textile, glass, fibre, light, ancient, eye, colour, archaeology, visual, yarn, eyewear, lighting, dye, fabric, laser'),\n",
       " (30,\n",
       "  'earth, earthquake, seismic, mantle, rock, evolution, fault, fluid, surface, mineral, deformation, volcanic, geological, eruption, constrain'),\n",
       " (31,\n",
       "  'health, healthcare, patient, clinical, disease, child, treatment, age, population, outcome, mental_health, genetic, cancer, medical, prevention'),\n",
       " (32,\n",
       "  'energy, energy_efficiency, grid, electricity, renewable_energy, storage, control, energy_consumption, renewable, flexibility, operation, supply, different, demonstrate, smart_grid'),\n",
       " (33,\n",
       "  'cryptography, blockchain, biometric, personal, fraud, detection, protect, authentication, verification, criminal, leas, need, erc, detect, police'),\n",
       " (34,\n",
       "  'archaeology, population, ancient, landscape, site, evolution, past, neolithic, settlement, animal, specie, plant, date, remain, farming'),\n",
       " (35,\n",
       "  'maritime, ship, cybersecurity, critical_infrastructure, port, sea, critical, incident, marine, response, arctic, vulnerability, operation, ocean, hazard'),\n",
       " (36,\n",
       "  'flow, particle, surface, interface, fluid, molecule, control, water, liquid, polymer, mechanism, interaction, soft, formation, transport'),\n",
       " (37,\n",
       "  'verification, cps, proof, programming, cyber_physical, formal, automata, correctness, language, uncertainty, concurrency, logic, programming_language, semantic, real_world'),\n",
       " (38,\n",
       "  'firm, choice, affect, mechanism, different, implication, uncertainty, macroeconomic, outcome, behaviour, bank, insurance, shock, tax, labor_market'),\n",
       " (39,\n",
       "  'sound, acoustic, noise, audio, critical_infrastructure, touch, hear, frequency, hearing, cochlear_implant, dl, soundscape, speech, dnn, auditory'),\n",
       " (40,\n",
       "  'video, mobile, search, need, image, way, allow, help, interactive, visual, camera, virtual_reality, multimedia, display, store'),\n",
       " (41,\n",
       "  'cellular, tissue, therapeutic, bone, stem_cell, treatment, drug, clinical, implant, scaffold, biomaterial, patient, disease, vivo, novel'),\n",
       " (42,\n",
       "  'cellular, infection, t_cell, vaccine, disease, immune, bacterial, virus, response, pathogen, protein, genetic, therapeutic, novel, molecule'),\n",
       " (43,\n",
       "  'quantum, quantum_computer, quantum_computing, cryptography, protocol, computation, qt, qc, classical, flagship, post, hardware, qkd, quantum_cryptography, quantum_mechanic'),\n",
       " (44,\n",
       "  'chemical, exposure, toxicity, health, nanoparticle, nanomaterial, cellular, enm, fate, compound, animal, analytical, metal, pollution, biological'),\n",
       " (45,\n",
       "  'drug, compound, drug_discovery, molecule, plant, pharmaceutical, cellular, imm, bioactive_compound, chemical, marine, novel, formulation, food, cancer'),\n",
       " (46,\n",
       "  'api, corrosion, surface, sealing, electrolyte, alloy, honey, aluminium, crystal, gb, treatment, corrosion_resistance, enzyme, seal, magnesium'),\n",
       " (47,\n",
       "  'transport, vehicle, road, need, operation, sensor, traffic, airport, drone, transportation, logistic, gnss, flight, rail, aircraft'),\n",
       " (48,\n",
       "  'wine, plant, yeast, biotechnology, grape, ngs, vineyard, genetic, genomic, microbial, fermentation, grapevine, viticulture, climate_change, agriculture'),\n",
       " (49,\n",
       "  'wm, estimation, district, antenna, epidemic, epic, smart_specialisation, gs, tuberculosis, dnn, irs, fhg, silicon, hyperspectral, pos'),\n",
       " (50,\n",
       "  'nuclear, reactor, fuel, waste, energy, operation, fusion, radiation_protection, code, plant, severe_accident, euratom, fast_reactor, accident, radioactive_waste'),\n",
       " (51,\n",
       "  'tls, rubber, compression, glass, picture, mechanical, low_temperature, martian, hackathon, radiation, playground, universality, disabled_people, tunneling, sentiment'),\n",
       " (52,\n",
       "  'protein, cellular, molecule, deoxyribonucleic_acid, interaction, membrane, biological, structure, peptide, drug, enzyme, mechanism, bind, disease, single_molecule'),\n",
       " (53,\n",
       "  'imaging, image, nuclear_magnetic_resonance, clinical, cancer, diagnosis, patient, tissue, treatment, cellular, tumor, disease, optic, positron_emission, brain'),\n",
       " (54,\n",
       "  'bacterial, spore, biofilm, lps, particle, cellular, mortar, nd, mucin, microbial, infection, lime, nanofiber, gel, silicone'),\n",
       " (55,\n",
       "  'sump, emotion_regulation, smart_city, um, discover, mw, emotion, sf, big_datum, tcd, crowdsourcing, belief, waterborne_transport, conflict_resolution, amber'),\n",
       " (56,\n",
       "  'rehabilitation, injury, muscle, responder, workforce, patient, fatigue, ergonomic, motion, hydrogen, brain, muscular, trainer, robotic, stress'),\n",
       " (57,\n",
       "  'aquaculture, fish, fishery, marine, specie, farming, feed, food, fishing, water, ocean, catch, hatchery, seafood, sea'),\n",
       " (58,\n",
       "  'os, coronary_artery, disease, biobank, conflict_prevention, reproducibility, spear, slip, fever, prototyping, screening, training_course, peacebuilde, biobanking, imi'),\n",
       " (59,\n",
       "  'fr, ace, di, ab, critical_infrastructure, sc, pain, breath, fire_retardant, ep, vapor, scc, elixir, venture, nodes'),\n",
       " (60,\n",
       "  'climate, atmospheric, aerosol, air_quality, emission, particle, measurement, air_pollution, health, source, atmosphere, pollution, climate_change, formation, chemical'),\n",
       " (61,\n",
       "  'embryo, pregnancy, reproductive, oocyte, ivf, sperm, fertility, cellular, genetic, infertility, clinical, animal, reproduction, implantation, genomic'),\n",
       " (62,\n",
       "  'silk, color, contact, list, equality, vault, film, virtual_reality, flower, hand, palace, discrimination, aesthetic, gep, reset'),\n",
       " (63,\n",
       "  'food, health, food_safety, healthy, consumption, diet, nutrition, protein, functional, nutritional, chain, plant, waste, eat, agri_food'),\n",
       " (64,\n",
       "  'oil, inspection, bee, csr, corrosion, oven, crack, conveyor, cheese, roller, tunnel, eddy_current, iraq, frog, nitrate'),\n",
       " (65,\n",
       "  'wave, energy, water, ocean, turbulence, wind, nonlinear, offshore_wind, float, turbine, float_wind, wind_turbine, control, pr, wec'),\n",
       " (66,\n",
       "  'robotic, control, interaction, cognitive, manipulation, hand, sensor, motion, automatic, interface, autonomous, assembly, body, novel, physical'),\n",
       " (67,\n",
       "  'patient, healthcare, treatment, clinical, diagnosis, medical, disease, hospital, therapeutic, need, health, medical_device, surgery, infection, heart'),\n",
       " (68,\n",
       "  'forest, wood, biomass, forestry, earth_observation, carbon, copernicus, timber, electro_optical, land, tree, forest_inventory, remote_sensing, climate_change, forest_owner'),\n",
       " (69,\n",
       "  'biodiversity, ontology, lca, genomic, taxonomic, biodiversity_ecosystem, permit, island, groundwater, lod, pss, br, marine_biodiversity, catalogue, compliance'),\n",
       " (70,\n",
       "  'dog, horse, injury, runner, personal_protective, shoe, equine, rider, animal, run, running, taxi, smart_textile, keen, compliance'),\n",
       " (71,\n",
       "  'waste, recycling, metal, raw_material, mining, mineral, recovery, energy, battery, rare_earth, extraction, recycle, critical_raw, electric, ore'),\n",
       " (72,\n",
       "  'tourism, transport, heritage, occupational_therapy, black_sea, cycling, systemic, landscape, monte_carlo, restoration, antarctic, historic, b, hazard, hubs'),\n",
       " (73,\n",
       "  'pe, astronomy, child, astronomical, inquiry, international_criminal, transitional_justice, io, sexual, perpetrator, deoxyribonucleic_acid, luxury, cp, customs, personal'),\n",
       " (74,\n",
       "  'systems_biology, flood, structural_biology, probability, nuclear_magnetic_resonance, ucd, trans_regional, dtu, flood_risk, dsc, centres, fragmentation, stochastic, tuscany, pharma_biotech'),\n",
       " (75,\n",
       "  'ce, battery, ripple, connected_car, addiction, dc, best, electronics, olae, destiny, pda, tv, promoter, iptv, batteries'),\n",
       " (76,\n",
       "  'paper, rd, multiscale, computed_tomography, cst, cash, solar, ink, pad, catalog, dlr, multiscale_modelling, store, counterfeit, currency'),\n",
       " (77,\n",
       "  'terrain, electrodeposition, sma, town, biosensor, grain_size, upgrade, mems, meta, atlas, geohazard, triangle, organ_chip, microsensor, memory_alloy'),\n",
       " (78,\n",
       "  'abortion, ms, fp, automotive_industry, tyre, tobacco, central_eastern, axiom, surveillance, polarisation, family, mass_spectrometry, chip, hospital_setting, automotive_oem'),\n",
       " (79,\n",
       "  'cern, sesame, particle, external, spend, heritage, large_hadron, scientist_engineer, ibs, pan, egypt, liver, cofund_action, materials, international_visibility'),\n",
       " (80,\n",
       "  'course, semiconductor, blood_pressure, remedy, spp, nanoelectronic, fellowships, cmos, eniac, forecasting, warwick, ias, ascent, gamification, sdg'),\n",
       " (81,\n",
       "  'exercise, secrecy, rm, pro, bone, niche, intuition, zebrafish, asthma, adverse_effect, gc, male, transparency, ics, t'),\n",
       " (82,\n",
       "  'rfid, middleware, blood, tco, aspire, traceability, energy_performance_contracting, proteomic, spanish, quantitative_proteomic, mastery, cost_ownership, programmable, k, value'),\n",
       " (83,\n",
       "  'hydropower, central_asia, dust, press_release, geo, pr, central_asian, geoss, policy_advice, deconstruction, renovation, internationalisation, export, entire_lifecycle, energize'),\n",
       " (84,\n",
       "  'paint, tes, standard_model, self, minimal, pension, lec, ar, road, titanium_dioxide, white, peripheral, coral, coating, general'),\n",
       " (86,\n",
       "  'electrode, umbrella, emf, exposure, metal, metrology, risk_factor, formaldehyde, ion_beam, amyotrophic_lateral, ion, sclerosis, nerve, dac, trials'),\n",
       " (87,\n",
       "  'axle, trailer, farming, prison, census, pf, traceability, constitute, statistician, categorization, comparability, adr, polity, subjectivity, slab'),\n",
       " (88,\n",
       "  'populism, ku_leuven, simplicity, sdm, ut, cnrs, populist, ill_health, pisa, multilevel, sns, stress, bi_directional, stay, monogenic'),\n",
       " (90,\n",
       "  'refrigeration, corruption, cartridge, democratization, dt, sequence, tem, et, pedagogical, fail, corrupt, duty, interoperable, cold, superconductivity'),\n",
       " (91,\n",
       "  'vaccine, misinformation, vaccination, acceptance, si, silence, td, healthcare, lot, cold_chain, intellectual_disability, fire_safety, healthcare_professional, freeze_dry, stigma')]"
      ]
     },
     "execution_count": 44,
     "metadata": {},
     "output_type": "execute_result"
    }
   ],
   "source": [
    "tpc_descs = [el for el in tpc_descs if el[0] not in [0,1,2,3,4,5,6,85,89,92,93,94,95]]\n",
    "tpc_descs "
   ]
  },
  {
   "cell_type": "code",
   "execution_count": 45,
   "id": "9077c1bb-93ee-45e4-bbc3-eade7fb2827f",
   "metadata": {},
   "outputs": [],
   "source": [
    "n_words = 15\n",
    "tpc_descs = []\n",
    "for i in range(mdl.k):\n",
    "    words = [mdl.vocabs[idx2] for idx2 in np.argsort(betas_ds[i])[::-1][0:n_words]]\n",
    "    tpc_descs.append((i, words))\n",
    "    \n",
    "root_desc = tpc_descs[0][1]\n",
    "tpc_descs = [el[1] for el in tpc_descs if el[0] !=0]\n",
    "PC_pair_groups = [[root_desc, el] for el in tpc_descs]"
   ]
  },
  {
   "cell_type": "code",
   "execution_count": 46,
   "id": "e597a328-ef37-4430-ba2f-c3dc2e830e9d",
   "metadata": {},
   "outputs": [],
   "source": [
    "from collections import Counter, defaultdict\n",
    "\n",
    "def compute_CLNPMI(parent_diff_words, child_diff_words, all_bow, vocab):\n",
    "    npmi_list = list()\n",
    "\n",
    "    for p_w in parent_diff_words:\n",
    "        flag_n = all_bow[:, vocab[p_w]] > 0\n",
    "        p_n = np.sum(flag_n) / len(all_bow)\n",
    "\n",
    "        for c_w in child_diff_words:\n",
    "            flag_l = all_bow[:, vocab[c_w]] > 0\n",
    "            p_l = np.sum(flag_l)\n",
    "            p_nl = np.sum(flag_n * flag_l)\n",
    "\n",
    "            if p_nl == len(all_bow):\n",
    "                npmi_score = 1\n",
    "            else:\n",
    "                p_l = p_l / len(all_bow)\n",
    "                p_nl = p_nl / len(all_bow)\n",
    "                p_nl += 1e-10\n",
    "                npmi_score = np.log(p_nl / (p_l * p_n)) / -np.log(p_nl)\n",
    "\n",
    "            npmi_list.append(npmi_score)\n",
    "\n",
    "    return npmi_list\n",
    "\n",
    "\n",
    "def get_CLNPMI(PC_pair_groups, all_bow, vocab):\n",
    "    CNPMI_list = list()\n",
    "    for group in tqdm(PC_pair_groups):\n",
    "        layer_CNPMI = []\n",
    "    \n",
    "       \n",
    "        parent_words = set(group[0])\n",
    "        child_words = set(group[1])\n",
    "\n",
    "        inter = parent_words.intersection(child_words)\n",
    "        parent_diff_words = list(parent_words.difference(inter))\n",
    "        child_diff_words = list(child_words.difference(inter))\n",
    "        \n",
    "        npmi_list = compute_CLNPMI(parent_diff_words, child_diff_words, all_bow, vocab)\n",
    "\n",
    "        # Handle repetitive word pair NPMI assignments if necessary\n",
    "        num_repetition = (\n",
    "            len(parent_words) - len(parent_diff_words)\n",
    "        ) * (len(child_words) - len(child_diff_words))\n",
    "        npmi_list.extend([-1] * num_repetition)\n",
    "\n",
    "        layer_CNPMI.extend(npmi_list)\n",
    "    \n",
    "        CNPMI_list.append(np.mean(layer_CNPMI))  # Append the group's result\n",
    "\n",
    "\n",
    "    return CNPMI_list\n",
    "\n",
    "def compute_diff_topic_pair(topic_words_a, topic_words_b):\n",
    "    word_counter = Counter()\n",
    "    word_counter.update(topic_words_a)\n",
    "    word_counter.update(topic_words_b)\n",
    "    diff = (np.asarray(list(word_counter.values())) == 1).sum() / (len(topic_words_a) + len(topic_words_b))\n",
    "    return diff\n",
    "\n",
    "\n",
    "def get_topics_difference(topic_pair_groups):\n",
    "    diff_list = list()\n",
    "    for group in tqdm(topic_pair_groups):\n",
    "        layer_diff = list()\n",
    "        diff = compute_diff_topic_pair(group[0], group[1])\n",
    "        layer_diff.append(diff)\n",
    "        diff_list.append(np.mean(layer_diff))\n",
    "\n",
    "    return diff_list"
   ]
  },
  {
   "cell_type": "code",
   "execution_count": 47,
   "id": "88709c18-13c2-4fb8-b09a-664941ea6f90",
   "metadata": {},
   "outputs": [
    {
     "name": "stderr",
     "output_type": "stream",
     "text": [
      "100%|██████████| 95/95 [00:25<00:00,  3.77it/s]\n"
     ]
    }
   ],
   "source": [
    "CLNPMI = get_CLNPMI(PC_pair_groups, bow, vocab_w2id)"
   ]
  },
  {
   "cell_type": "code",
   "execution_count": 48,
   "id": "5637345a-d6cd-4cef-919f-24e950695fa8",
   "metadata": {},
   "outputs": [
    {
     "data": {
      "text/plain": [
       "-0.095"
      ]
     },
     "execution_count": 48,
     "metadata": {},
     "output_type": "execute_result"
    }
   ],
   "source": [
    "np.mean(CLNPMI).round(3)"
   ]
  },
  {
   "cell_type": "code",
   "execution_count": 49,
   "id": "84ece51f-b998-46ef-9ce5-ce6ac53d7295",
   "metadata": {},
   "outputs": [
    {
     "name": "stderr",
     "output_type": "stream",
     "text": [
      "100%|██████████| 95/95 [00:00<00:00, 50784.97it/s]\n"
     ]
    }
   ],
   "source": [
    "PC_TD = get_topics_difference(PC_pair_groups)"
   ]
  },
  {
   "cell_type": "code",
   "execution_count": 50,
   "id": "f2540bb9-97ea-4dfc-961b-b8332f29ada0",
   "metadata": {},
   "outputs": [
    {
     "data": {
      "text/plain": [
       "0.971"
      ]
     },
     "execution_count": 50,
     "metadata": {},
     "output_type": "execute_result"
    }
   ],
   "source": [
    "np.mean(PC_TD).round(3)"
   ]
  }
 ],
 "metadata": {
  "kernelspec": {
   "display_name": "Python 3 (ipykernel)",
   "language": "python",
   "name": "python3"
  },
  "language_info": {
   "codemirror_mode": {
    "name": "ipython",
    "version": 3
   },
   "file_extension": ".py",
   "mimetype": "text/x-python",
   "name": "python",
   "nbconvert_exporter": "python",
   "pygments_lexer": "ipython3",
   "version": "3.10.9"
  }
 },
 "nbformat": 4,
 "nbformat_minor": 5
}
