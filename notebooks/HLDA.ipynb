{
 "cells": [
  {
   "cell_type": "code",
   "execution_count": null,
   "id": "8717da1b",
   "metadata": {
    "tags": []
   },
   "outputs": [],
   "source": [
    "!pip install tomotopy"
   ]
  },
  {
   "cell_type": "code",
   "execution_count": 1,
   "id": "40abeb33",
   "metadata": {
    "tags": []
   },
   "outputs": [],
   "source": [
    "import tomotopy as tp\n",
    "import pickle\n",
    "import time as timer\n",
    "import pathlib\n",
    "import numpy as np\n",
    "import pandas as pd"
   ]
  },
  {
   "cell_type": "code",
   "execution_count": 2,
   "id": "79efaf19-e20d-4d9f-99a0-f2b70fce2d08",
   "metadata": {
    "tags": []
   },
   "outputs": [],
   "source": [
    "def mallet_corpus_to_df(corpusFile: pathlib.Path):\n",
    "    \"\"\"Converts a Mallet corpus file (i.e., file required for the Mallet import command) to a pandas DataFrame\n",
    "\n",
    "    Parameters\n",
    "    ----------\n",
    "    corpusFile: pathlib.Path\n",
    "        Path to the Mallet corpus file\n",
    "\n",
    "    Returns\n",
    "    -------\n",
    "    :   pandas.DataFrame\n",
    "        DataFrame with the corpus\n",
    "    \"\"\"\n",
    "\n",
    "    corpus = [line.rsplit(' 0 ')[1].strip() for line in open(\n",
    "        corpusFile, encoding=\"utf-8\").readlines()]\n",
    "    indexes = [line.rsplit(' 0 ')[0].strip() for line in open(\n",
    "        corpusFile, encoding=\"utf-8\").readlines()]\n",
    "    corpus_dict = {\n",
    "        'id': indexes,\n",
    "        'text': corpus\n",
    "    }\n",
    "    return pd.DataFrame(corpus_dict)"
   ]
  },
  {
   "cell_type": "code",
   "execution_count": 3,
   "id": "0b23bb68",
   "metadata": {
    "tags": []
   },
   "outputs": [
    {
     "data": {
      "text/html": [
       "<div>\n",
       "<style scoped>\n",
       "    .dataframe tbody tr th:only-of-type {\n",
       "        vertical-align: middle;\n",
       "    }\n",
       "\n",
       "    .dataframe tbody tr th {\n",
       "        vertical-align: top;\n",
       "    }\n",
       "\n",
       "    .dataframe thead th {\n",
       "        text-align: right;\n",
       "    }\n",
       "</style>\n",
       "<table border=\"1\" class=\"dataframe\">\n",
       "  <thead>\n",
       "    <tr style=\"text-align: right;\">\n",
       "      <th></th>\n",
       "      <th>id</th>\n",
       "      <th>text</th>\n",
       "    </tr>\n",
       "  </thead>\n",
       "  <tbody>\n",
       "    <tr>\n",
       "      <th>0</th>\n",
       "      <td>100016</td>\n",
       "      <td>methods processes embedded_systems embed criti...</td>\n",
       "    </tr>\n",
       "    <tr>\n",
       "      <th>1</th>\n",
       "      <td>115153</td>\n",
       "      <td>rapid point_care platforms infectious_diseases...</td>\n",
       "    </tr>\n",
       "    <tr>\n",
       "      <th>2</th>\n",
       "      <td>115632</td>\n",
       "      <td>recognise adverse drug reactions regulatory_ag...</td>\n",
       "    </tr>\n",
       "    <tr>\n",
       "      <th>3</th>\n",
       "      <td>115861</td>\n",
       "      <td>vaccine phase_ii sofia_ref main_objective exte...</td>\n",
       "    </tr>\n",
       "    <tr>\n",
       "      <th>4</th>\n",
       "      <td>116030</td>\n",
       "      <td>translational quantitative toxicology medicine...</td>\n",
       "    </tr>\n",
       "    <tr>\n",
       "      <th>...</th>\n",
       "      <td>...</td>\n",
       "      <td>...</td>\n",
       "    </tr>\n",
       "    <tr>\n",
       "      <th>65571</th>\n",
       "      <td>190119289</td>\n",
       "      <td>early_detection skin_cancer endure detect skin...</td>\n",
       "    </tr>\n",
       "    <tr>\n",
       "      <th>65572</th>\n",
       "      <td>190134697</td>\n",
       "      <td>water_vapor turbo compression thermal cool maj...</td>\n",
       "    </tr>\n",
       "    <tr>\n",
       "      <th>65573</th>\n",
       "      <td>190151860</td>\n",
       "      <td>geotechnical genetic inverse poor track_record...</td>\n",
       "    </tr>\n",
       "    <tr>\n",
       "      <th>65574</th>\n",
       "      <td>190161902</td>\n",
       "      <td>artificial_intelligence musical preserve prese...</td>\n",
       "    </tr>\n",
       "    <tr>\n",
       "      <th>65575</th>\n",
       "      <td>190185259</td>\n",
       "      <td>gps free visual line_sight navigation logistic...</td>\n",
       "    </tr>\n",
       "  </tbody>\n",
       "</table>\n",
       "<p>65576 rows × 2 columns</p>\n",
       "</div>"
      ],
      "text/plain": [
       "              id                                               text\n",
       "0         100016  methods processes embedded_systems embed criti...\n",
       "1         115153  rapid point_care platforms infectious_diseases...\n",
       "2         115632  recognise adverse drug reactions regulatory_ag...\n",
       "3         115861  vaccine phase_ii sofia_ref main_objective exte...\n",
       "4         116030  translational quantitative toxicology medicine...\n",
       "...          ...                                                ...\n",
       "65571  190119289  early_detection skin_cancer endure detect skin...\n",
       "65572  190134697  water_vapor turbo compression thermal cool maj...\n",
       "65573  190151860  geotechnical genetic inverse poor track_record...\n",
       "65574  190161902  artificial_intelligence musical preserve prese...\n",
       "65575  190185259  gps free visual line_sight navigation logistic...\n",
       "\n",
       "[65576 rows x 2 columns]"
      ]
     },
     "execution_count": 3,
     "metadata": {},
     "output_type": "execute_result"
    }
   ],
   "source": [
    "path_corpus = pathlib.Path(\"/export/usuarios_ml4ds/lbartolome/Datasets/CORDIS/models_preproc/iter_0/corpus.txt\")\n",
    "df = mallet_corpus_to_df(path_corpus)\n",
    "df"
   ]
  },
  {
   "cell_type": "code",
   "execution_count": 4,
   "id": "8022419f",
   "metadata": {
    "tags": []
   },
   "outputs": [],
   "source": [
    "df_lemas = df[[\"text\"]].values.tolist()"
   ]
  },
  {
   "cell_type": "code",
   "execution_count": 9,
   "id": "dadb966d",
   "metadata": {},
   "outputs": [],
   "source": [
    "tw = tp.TermWeight.ONE # term weighting scheme in TermWeight\n",
    "min_cf = 0             # minimum collection frequency of words.\n",
    "min_df = 0             # minimum document frequency of words.\n",
    "rm_top = 0             # the number of top words to be removed. \n",
    "depth = 4              # the maximum depth level of hierarchy between 2 ~ 32767\n",
    "alpha = 10.0           # hyperparameter of Dirichlet distribution for document-depth level\n",
    "eta = 0.1              # hyperparameter of Dirichlet distribution for topic-word\n",
    "gamma = 1.0            # concentration coeficient of Dirichlet Process\n",
    "seed = None            # random seed\n",
    "mycorpus = df_lemas  \n",
    "transform = None       # a callable object to manipulate arbitrary keyword arguments for a specific topic model"
   ]
  },
  {
   "cell_type": "code",
   "execution_count": null,
   "id": "b71dd5c6",
   "metadata": {},
   "outputs": [
    {
     "name": "stdout",
     "output_type": "stream",
     "text": [
      "LLEGA 1\n",
      "LLEGA 2\n",
      "LLEGA 3\n",
      "Num docs:65576, Num Vocabs:20374, Total Words:4497518\n",
      "Iteration: 0000, LL per word: -9.169\n",
      "Iteration: 0020, LL per word: -8.102\n",
      "Iteration: 0040, LL per word: -8.055\n"
     ]
    }
   ],
   "source": [
    "mdl = tp.HLDAModel(tw = tp.TermWeight.ONE , min_cf= 0, min_df= 0, rm_top = 0, depth = 2, alpha = 10.0, eta = 0.1, gamma = 1.0)\n",
    "\n",
    "print(\"LLEGA 1\")\n",
    "for texts in mycorpus:\n",
    "    mdl.add_doc(texts[0].split())\n",
    "print(\"LLEGA 2\")\n",
    "mdl.train(0)\n",
    "print(\"LLEGA 3\")\n",
    "print('Num docs:{}, Num Vocabs:{}, Total Words:{}'.format(\n",
    "    len(mdl.docs), len(mdl.used_vocabs), mdl.num_words))\n",
    "\n",
    "# Let's train the model\n",
    "for i in range(0, 1000, 20):\n",
    "    print('Iteration: {:04}, LL per word: {:.4}'.format(i, mdl.ll_per_word))\n",
    "    mdl.train(20)\n",
    "print('Iteration: {:04}, LL per word: {:.4}'.format(1000, mdl.ll_per_word))\n",
    "\n",
    "mdl.summary()\n"
   ]
  },
  {
   "cell_type": "code",
   "execution_count": null,
   "id": "f3404137",
   "metadata": {},
   "outputs": [],
   "source": [
    "for k in range(mdl.k):\n",
    "    if not mdl.is_live_topic(k): continue\n",
    "    print('Top 10 words of topic #{}'.format(k))\n",
    "    print(mdl.get_topic_words(k, top_n=15))"
   ]
  },
  {
   "cell_type": "code",
   "execution_count": null,
   "id": "1e066911",
   "metadata": {},
   "outputs": [],
   "source": [
    "#save lda model for reuse\n",
    "hlda_save = 'hlda.bin'\n",
    "mdl.save(hlda_save)"
   ]
  },
  {
   "cell_type": "code",
   "execution_count": null,
   "id": "0828bffc",
   "metadata": {
    "tags": []
   },
   "outputs": [],
   "source": [
    "#load and print\n",
    "#mdl = tp.HLDAModel.load(hlda_save) \n",
    "#for k in range(mdl.k):\n",
    "#    if not mdl.is_live_topic(k): continue\n",
    "#    print('Top 10 words of topic #{}'.format(k))\n",
    "#    print(mdl.get_topic_words(k, top_n=10))"
   ]
  },
  {
   "cell_type": "code",
   "execution_count": 119,
   "id": "21473dee-1acd-4d74-b942-ae9f90cef742",
   "metadata": {
    "tags": []
   },
   "outputs": [],
   "source": [
    "betas_ = np.load('/export/usuarios_ml4ds/lbartolome/Datasets/CORDIS/htm_variability_models/htm_6_tpcs_20230922/TMmodel/betas.npy')"
   ]
  },
  {
   "cell_type": "code",
   "execution_count": 123,
   "id": "3d75759f-7379-41e8-93c6-263373213c3a",
   "metadata": {
    "tags": []
   },
   "outputs": [
    {
     "data": {
      "text/plain": [
       "array([[8.38666805e-05, 4.13074700e-05, 1.00000000e-12, ...,\n",
       "        1.87761233e-05, 3.00417966e-05, 1.00000000e-12],\n",
       "       [9.97873293e-05, 2.49468331e-05, 7.10984724e-05, ...,\n",
       "        1.00000000e-12, 1.00000000e-12, 1.00000000e-12],\n",
       "       [1.14584453e-04, 4.86983932e-05, 1.00000000e-12, ...,\n",
       "        1.00000000e-12, 1.00000000e-12, 3.43753367e-05],\n",
       "       [1.00000000e-12, 1.00000000e-12, 1.00000000e-12, ...,\n",
       "        1.00000000e-12, 1.00000000e-12, 1.00000000e-12],\n",
       "       [3.41553395e-05, 1.30115576e-04, 1.00000000e-12, ...,\n",
       "        1.00000000e-12, 1.00000000e-12, 1.00000000e-12],\n",
       "       [3.71241193e-05, 1.00000000e-12, 1.00000000e-12, ...,\n",
       "        1.00000000e-12, 1.00000000e-12, 1.00000000e-12]])"
      ]
     },
     "execution_count": 123,
     "metadata": {},
     "output_type": "execute_result"
    }
   ],
   "source": [
    "betas_"
   ]
  },
  {
   "cell_type": "code",
   "execution_count": 69,
   "id": "3f6c729f-53e0-4799-94b1-2cdf40ec8c6d",
   "metadata": {
    "tags": []
   },
   "outputs": [],
   "source": [
    "mdl = tp.HLDAModel.load(\"/export/usuarios_ml4ds/lbartolome/Repos/my_repos/UserInLoopHTM/experiments/hlda/output/hlda_cordis.bin\") "
   ]
  },
  {
   "cell_type": "code",
   "execution_count": 71,
   "id": "8c4fe92a-888f-4b48-9e45-12baf787f129",
   "metadata": {
    "tags": []
   },
   "outputs": [
    {
     "data": {
      "text/plain": [
       "20374"
      ]
     },
     "execution_count": 71,
     "metadata": {},
     "output_type": "execute_result"
    }
   ],
   "source": [
    "len(mdl.vocabs)"
   ]
  },
  {
   "cell_type": "code",
   "execution_count": 72,
   "id": "59b1e70c-c069-4deb-ae6b-e0e8fc132ef4",
   "metadata": {
    "tags": []
   },
   "outputs": [
    {
     "data": {
      "text/plain": [
       "96"
      ]
     },
     "execution_count": 72,
     "metadata": {},
     "output_type": "execute_result"
    }
   ],
   "source": [
    "mdl.k"
   ]
  },
  {
   "cell_type": "code",
   "execution_count": 137,
   "id": "83c5d51d-c514-4422-a53a-a64d68770ef5",
   "metadata": {
    "tags": []
   },
   "outputs": [
    {
     "data": {
      "text/plain": [
       "(96, 20374)"
      ]
     },
     "execution_count": 137,
     "metadata": {},
     "output_type": "execute_result"
    }
   ],
   "source": [
    "np.array([mdl.get_topic_word_dist(el) for el in range(mdl.k)]).shape"
   ]
  },
  {
   "cell_type": "code",
   "execution_count": 124,
   "id": "dd4adf7d-aafa-4950-9485-833a15c73ccb",
   "metadata": {
    "tags": []
   },
   "outputs": [
    {
     "data": {
      "text/plain": [
       "(96, 20374)"
      ]
     },
     "execution_count": 124,
     "metadata": {},
     "output_type": "execute_result"
    }
   ],
   "source": [
    "betas = []\n",
    "for el in range(mdl.k):\n",
    "    betas_i = mdl.get_topic_word_dist(el)\n",
    "    betas.append(betas_i)\n",
    "betas = np.array(betas)\n",
    "betas.shape"
   ]
  },
  {
   "cell_type": "code",
   "execution_count": 125,
   "id": "2ba6540f-d2b2-4897-8368-5c6142de5a39",
   "metadata": {
    "tags": []
   },
   "outputs": [
    {
     "data": {
      "text/plain": [
       "array([[ 8.81692984e-04,  2.59725790e-02,  4.59628272e-02, ...,\n",
       "        -5.19945132e-07, -5.15196468e-07, -5.21960272e-07],\n",
       "       [-4.89315327e-05, -6.56981603e-05, -5.23421798e-05, ...,\n",
       "         6.82128010e-05,  7.03226895e-05,  6.73174500e-05],\n",
       "       [-4.89315327e-05, -6.56981603e-05, -5.23421798e-05, ...,\n",
       "         6.82128010e-05,  7.03226895e-05,  6.73174500e-05],\n",
       "       ...,\n",
       "       [-4.89315327e-05, -6.56981603e-05, -5.23421798e-05, ...,\n",
       "         6.82128010e-05,  7.03226895e-05,  6.73174500e-05],\n",
       "       [-4.89315327e-05, -6.56981603e-05, -5.23421798e-05, ...,\n",
       "         6.82128010e-05,  7.03226895e-05,  6.73174500e-05],\n",
       "       [-4.89315327e-05, -6.56981603e-05, -5.23421798e-05, ...,\n",
       "         6.82128010e-05,  7.03226895e-05,  6.73174500e-05]])"
      ]
     },
     "execution_count": 125,
     "metadata": {},
     "output_type": "execute_result"
    }
   ],
   "source": [
    "betas_ds = np.copy(betas)\n",
    "if np.min(betas_ds) < 1e-12:\n",
    "    betas_ds += 1e-12\n",
    "deno = np.reshape((sum(np.log(betas_ds)) / mdl.k), (len(mdl.vocabs), 1))\n",
    "deno = np.ones((mdl.k, 1)).dot(deno.T)\n",
    "betas_ds = betas_ds * (np.log(betas_ds) - deno)\n",
    "betas_ds"
   ]
  },
  {
   "cell_type": "code",
   "execution_count": 126,
   "id": "faa7e754-c7ff-4c58-9bd5-14e70a26f9ee",
   "metadata": {},
   "outputs": [],
   "source": [
    "vocab_w2id = {}\n",
    "vocab_id2w = {}\n",
    "for i, wd in enumerate(mdl.vocabs):\n",
    "    vocab_w2id[wd] = i\n",
    "    vocab_id2w[str(i)] = wd"
   ]
  },
  {
   "cell_type": "code",
   "execution_count": 130,
   "id": "b97728ac-fc61-4eb8-b8ae-23baf7408068",
   "metadata": {},
   "outputs": [],
   "source": [
    "n_words = 15\n",
    "tpc_descs = []\n",
    "for i in range(mdl.k):\n",
    "    words = [mdl.vocabs[idx2] for idx2 in np.argsort(betas_ds[i])[::-1][0:n_words]]\n",
    "    tpc_descs.append((i, ', '.join(words)))\n"
   ]
  },
  {
   "cell_type": "code",
   "execution_count": 134,
   "id": "811bc2a2-6141-40f1-bbc1-209cb92e1591",
   "metadata": {
    "tags": []
   },
   "outputs": [],
   "source": [
    "#for i in range(mdl.k):\n",
    "#    print(f\"{str(i)}: {mdl.get_topic_words(i)}\")"
   ]
  },
  {
   "cell_type": "code",
   "execution_count": 131,
   "id": "d677d177-ab83-41ed-936c-c99e8dd68c36",
   "metadata": {
    "tags": []
   },
   "outputs": [
    {
     "data": {
      "text/plain": [
       "[(7,\n",
       "  'supernova_explosion, place_september, microtubule_mt, supersymmetric_gauge, astrophysical_phenomenon, diagnostic_audit, atlantic_meridional, coach_client, historiographic, nucleosomes, absorption_coefficient, astrophysical_object, resect, calcium_image, science_cafã'),\n",
       " (8,\n",
       "  'cellular, genetic, protein, cancer, deoxyribonucleic_acid, disease, mechanism, molecule, ribonucleic_acid, genomic, signal, control, pathway, tissue, novel'),\n",
       " (9,\n",
       "  'quantum, molecule, electric, optic, spin, control, light, atom, magnetic, novel, interaction, electron, energy, photonic, surface'),\n",
       " (10,\n",
       "  'galaxy, particle, energy, universe, observation, star, evolution, mass, dark_matter, search, detector, measurement, solar, formation, large_hadron_collider'),\n",
       " (11,\n",
       "  'energy, battery, fuel, cellular, electric, efficiency, carbon_dioxide, emission, hydrogen, vehicle, component, solar, plant, heat, reduction'),\n",
       " (12,\n",
       "  'patient, cancer, therapeutic, treatment, cellular, clinical, disease, drug, tumor, diagnosis, biomarker, novel, genetic, molecule, clinical_trial'),\n",
       " (13,\n",
       "  'aircraft, control, composite, component, engine, flow, electric, flight, structure, noise, reduction, sensor, emission, surface, energy'),\n",
       " (14,\n",
       "  'language, linguistic, speech, cognitive, child, semantic, word, translation, machine_translation, interaction, infant, multilingual, computation, meaning, brain'),\n",
       " (15,\n",
       "  'quantum, conjecture, geometry, geometric, graph, computation, number, equation, classical, algebraic, class, prove, topology, mathematic, general'),\n",
       " (16,\n",
       "  'brain, neuronal, cellular, mechanism, visual, cognitive, functional, circuit, sensory, imaging, control, signal, cortical, neuroscience, motor'),\n",
       " (17,\n",
       "  'climate, climate_change, water, soil, ocean, carbon, biodiversity, forest, marine, land, earth, specie, ecological, response, plant'),\n",
       " (18,\n",
       "  'farming, agriculture, crop, food, plant, water, soil, health, disease, organic, animal, pest, control, seed, pesticide'),\n",
       " (19,\n",
       "  'g, computation, mobile, control, need, scalability, wireless, heterogeneous, hardware, embed, energy, component, layer, critical, code'),\n",
       " (20,\n",
       "  'need, help, main, different, health, co, place, way, follow, call, successful, number, connect, value, food'),\n",
       " (21,\n",
       "  'civitas, body, radicalisation, ui, mass_index, grid, environmental_justice, dare, elevate, irish, social_housing, olive_oil, eastern_mediterranean, needs, neighborhood'),\n",
       " (22,\n",
       "  'satellite, orbit, spacecraft, payload, space_mission, thruster, small_satellite, propulsion, earth, flight, earth_observation, ground, electric, operation, electric_propulsion'),\n",
       " (23,\n",
       "  'catalysis, reaction, chemical, synthesis, molecule, carbon_dioxide, energy, novel, synthetic, enzyme, metal, polymer, fuel, compound, carbon'),\n",
       " (24,\n",
       "  'water, waste, food, treatment, produce, energy, plant, chemical, wastewater, packaging, biomass, plastic, bio_base, carbon_dioxide, agriculture'),\n",
       " (25,\n",
       "  'way, different, language, place, right, value, produce, family, source, seek, literature, concern, insight, past, play'),\n",
       " (26,\n",
       "  'optic, laser, photonic, sensor, electric, chip, circuit, semiconductor, component, novel, sensing, source, fabrication, light, risk_factor'),\n",
       " (27,\n",
       "  'animal, animal_welfare, insect, bat, forage, egg, behaviour, fodder, artwork, ant, lean, navigation, incubation, prey, hunting'),\n",
       " (28,\n",
       "  'genetic, evolution, plant, genomic, specie, population, trait, molecule, cellular, adaptation, disease, mechanism, pathogen, interaction, variation'),\n",
       " (29,\n",
       "  'textile, glass, fibre, light, ancient, eye, colour, archaeology, visual, yarn, eyewear, lighting, dye, fabric, laser'),\n",
       " (30,\n",
       "  'earth, earthquake, seismic, mantle, rock, evolution, fault, fluid, surface, mineral, deformation, volcanic, geological, eruption, constrain'),\n",
       " (31,\n",
       "  'health, healthcare, patient, clinical, disease, child, treatment, age, population, outcome, mental_health, genetic, cancer, medical, prevention'),\n",
       " (32,\n",
       "  'energy, energy_efficiency, grid, electricity, renewable_energy, storage, control, energy_consumption, renewable, flexibility, operation, supply, different, demonstrate, smart_grid'),\n",
       " (33,\n",
       "  'cryptography, blockchain, biometric, personal, fraud, detection, protect, authentication, verification, criminal, leas, need, erc, detect, police'),\n",
       " (34,\n",
       "  'archaeology, population, ancient, landscape, site, evolution, past, neolithic, settlement, animal, specie, plant, date, remain, farming'),\n",
       " (35,\n",
       "  'maritime, ship, cybersecurity, critical_infrastructure, port, sea, critical, incident, marine, response, arctic, vulnerability, operation, ocean, hazard'),\n",
       " (36,\n",
       "  'flow, particle, surface, interface, fluid, molecule, control, water, liquid, polymer, mechanism, interaction, soft, formation, transport'),\n",
       " (37,\n",
       "  'verification, cps, proof, programming, cyber_physical, formal, automata, correctness, language, uncertainty, concurrency, logic, programming_language, semantic, real_world'),\n",
       " (38,\n",
       "  'firm, choice, affect, mechanism, different, implication, uncertainty, macroeconomic, outcome, behaviour, bank, insurance, shock, tax, labor_market'),\n",
       " (39,\n",
       "  'sound, acoustic, noise, audio, critical_infrastructure, touch, hear, frequency, hearing, cochlear_implant, dl, soundscape, speech, dnn, auditory'),\n",
       " (40,\n",
       "  'video, mobile, search, need, image, way, allow, help, interactive, visual, camera, virtual_reality, multimedia, display, store'),\n",
       " (41,\n",
       "  'cellular, tissue, therapeutic, bone, stem_cell, treatment, drug, clinical, implant, scaffold, biomaterial, patient, disease, vivo, novel'),\n",
       " (42,\n",
       "  'cellular, infection, t_cell, vaccine, disease, immune, bacterial, virus, response, pathogen, protein, genetic, therapeutic, novel, molecule'),\n",
       " (43,\n",
       "  'quantum, quantum_computer, quantum_computing, cryptography, protocol, computation, qt, qc, classical, flagship, post, hardware, qkd, quantum_cryptography, quantum_mechanic'),\n",
       " (44,\n",
       "  'chemical, exposure, toxicity, health, nanoparticle, nanomaterial, cellular, enm, fate, compound, animal, analytical, metal, pollution, biological'),\n",
       " (45,\n",
       "  'drug, compound, drug_discovery, molecule, plant, pharmaceutical, cellular, imm, bioactive_compound, chemical, marine, novel, formulation, food, cancer'),\n",
       " (46,\n",
       "  'api, corrosion, surface, sealing, electrolyte, alloy, honey, aluminium, crystal, gb, treatment, corrosion_resistance, enzyme, seal, magnesium'),\n",
       " (47,\n",
       "  'transport, vehicle, road, need, operation, sensor, traffic, airport, drone, transportation, logistic, gnss, flight, rail, aircraft'),\n",
       " (48,\n",
       "  'wine, plant, yeast, biotechnology, grape, ngs, vineyard, genetic, genomic, microbial, fermentation, grapevine, viticulture, climate_change, agriculture'),\n",
       " (49,\n",
       "  'wm, estimation, district, antenna, epidemic, epic, smart_specialisation, gs, tuberculosis, dnn, irs, fhg, silicon, hyperspectral, pos'),\n",
       " (50,\n",
       "  'nuclear, reactor, fuel, waste, energy, operation, fusion, radiation_protection, code, plant, severe_accident, euratom, fast_reactor, accident, radioactive_waste'),\n",
       " (51,\n",
       "  'tls, rubber, compression, glass, picture, mechanical, low_temperature, martian, hackathon, radiation, playground, universality, disabled_people, tunneling, sentiment'),\n",
       " (52,\n",
       "  'protein, cellular, molecule, deoxyribonucleic_acid, interaction, membrane, biological, structure, peptide, drug, enzyme, mechanism, bind, disease, single_molecule'),\n",
       " (53,\n",
       "  'imaging, image, nuclear_magnetic_resonance, clinical, cancer, diagnosis, patient, tissue, treatment, cellular, tumor, disease, optic, positron_emission, brain'),\n",
       " (54,\n",
       "  'bacterial, spore, biofilm, lps, particle, cellular, mortar, nd, mucin, microbial, infection, lime, nanofiber, gel, silicone'),\n",
       " (55,\n",
       "  'sump, emotion_regulation, smart_city, um, discover, mw, emotion, sf, big_datum, tcd, crowdsourcing, belief, waterborne_transport, conflict_resolution, amber'),\n",
       " (56,\n",
       "  'rehabilitation, injury, muscle, responder, workforce, patient, fatigue, ergonomic, motion, hydrogen, brain, muscular, trainer, robotic, stress'),\n",
       " (57,\n",
       "  'aquaculture, fish, fishery, marine, specie, farming, feed, food, fishing, water, ocean, catch, hatchery, seafood, sea'),\n",
       " (58,\n",
       "  'os, coronary_artery, disease, biobank, conflict_prevention, reproducibility, spear, slip, fever, prototyping, screening, training_course, peacebuilde, biobanking, imi'),\n",
       " (59,\n",
       "  'fr, ace, di, ab, critical_infrastructure, sc, pain, breath, fire_retardant, ep, vapor, scc, elixir, venture, nodes'),\n",
       " (60,\n",
       "  'climate, atmospheric, aerosol, air_quality, emission, particle, measurement, air_pollution, health, source, atmosphere, pollution, climate_change, formation, chemical'),\n",
       " (61,\n",
       "  'embryo, pregnancy, reproductive, oocyte, ivf, sperm, fertility, cellular, genetic, infertility, clinical, animal, reproduction, implantation, genomic'),\n",
       " (62,\n",
       "  'silk, color, contact, list, equality, vault, film, virtual_reality, flower, hand, palace, discrimination, aesthetic, gep, reset'),\n",
       " (63,\n",
       "  'food, health, food_safety, healthy, consumption, diet, nutrition, protein, functional, nutritional, chain, plant, waste, eat, agri_food'),\n",
       " (64,\n",
       "  'oil, inspection, bee, csr, corrosion, oven, crack, conveyor, cheese, roller, tunnel, eddy_current, iraq, frog, nitrate'),\n",
       " (65,\n",
       "  'wave, energy, water, ocean, turbulence, wind, nonlinear, offshore_wind, float, turbine, float_wind, wind_turbine, control, pr, wec'),\n",
       " (66,\n",
       "  'robotic, control, interaction, cognitive, manipulation, hand, sensor, motion, automatic, interface, autonomous, assembly, body, novel, physical'),\n",
       " (67,\n",
       "  'patient, healthcare, treatment, clinical, diagnosis, medical, disease, hospital, therapeutic, need, health, medical_device, surgery, infection, heart'),\n",
       " (68,\n",
       "  'forest, wood, biomass, forestry, earth_observation, carbon, copernicus, timber, electro_optical, land, tree, forest_inventory, remote_sensing, climate_change, forest_owner'),\n",
       " (69,\n",
       "  'biodiversity, ontology, lca, genomic, taxonomic, biodiversity_ecosystem, permit, island, groundwater, lod, pss, br, marine_biodiversity, catalogue, compliance'),\n",
       " (70,\n",
       "  'dog, horse, injury, runner, personal_protective, shoe, equine, rider, animal, run, running, taxi, smart_textile, keen, compliance'),\n",
       " (71,\n",
       "  'waste, recycling, metal, raw_material, mining, mineral, recovery, energy, battery, rare_earth, extraction, recycle, critical_raw, electric, ore'),\n",
       " (72,\n",
       "  'tourism, transport, heritage, occupational_therapy, black_sea, cycling, systemic, landscape, monte_carlo, restoration, antarctic, historic, b, hazard, hubs'),\n",
       " (73,\n",
       "  'pe, astronomy, child, astronomical, inquiry, international_criminal, transitional_justice, io, sexual, perpetrator, deoxyribonucleic_acid, luxury, cp, customs, personal'),\n",
       " (74,\n",
       "  'systems_biology, flood, structural_biology, probability, nuclear_magnetic_resonance, ucd, trans_regional, dtu, flood_risk, dsc, centres, fragmentation, stochastic, tuscany, pharma_biotech'),\n",
       " (75,\n",
       "  'ce, battery, ripple, connected_car, addiction, dc, best, electronics, olae, destiny, pda, tv, promoter, iptv, batteries'),\n",
       " (76,\n",
       "  'paper, rd, multiscale, computed_tomography, cst, cash, solar, ink, pad, catalog, dlr, multiscale_modelling, store, counterfeit, currency'),\n",
       " (77,\n",
       "  'terrain, electrodeposition, sma, town, biosensor, grain_size, upgrade, mems, meta, atlas, geohazard, triangle, organ_chip, microsensor, memory_alloy'),\n",
       " (78,\n",
       "  'abortion, ms, fp, automotive_industry, tyre, tobacco, central_eastern, axiom, surveillance, polarisation, family, mass_spectrometry, chip, hospital_setting, automotive_oem'),\n",
       " (79,\n",
       "  'cern, sesame, particle, external, spend, heritage, large_hadron, scientist_engineer, ibs, pan, egypt, liver, cofund_action, materials, international_visibility'),\n",
       " (80,\n",
       "  'course, semiconductor, blood_pressure, remedy, spp, nanoelectronic, fellowships, cmos, eniac, forecasting, warwick, ias, ascent, gamification, sdg'),\n",
       " (81,\n",
       "  'exercise, secrecy, rm, pro, bone, niche, intuition, zebrafish, asthma, adverse_effect, gc, male, transparency, ics, t'),\n",
       " (82,\n",
       "  'rfid, middleware, blood, tco, aspire, traceability, energy_performance_contracting, proteomic, spanish, quantitative_proteomic, mastery, cost_ownership, programmable, k, value'),\n",
       " (83,\n",
       "  'hydropower, central_asia, dust, press_release, geo, pr, central_asian, geoss, policy_advice, deconstruction, renovation, internationalisation, export, entire_lifecycle, energize'),\n",
       " (84,\n",
       "  'paint, tes, standard_model, self, minimal, pension, lec, ar, road, titanium_dioxide, white, peripheral, coral, coating, general'),\n",
       " (86,\n",
       "  'electrode, umbrella, emf, exposure, metal, metrology, risk_factor, formaldehyde, ion_beam, amyotrophic_lateral, ion, sclerosis, nerve, dac, trials'),\n",
       " (87,\n",
       "  'axle, trailer, farming, prison, census, pf, traceability, constitute, statistician, categorization, comparability, adr, polity, subjectivity, slab'),\n",
       " (88,\n",
       "  'populism, ku_leuven, simplicity, sdm, ut, cnrs, populist, ill_health, pisa, multilevel, sns, stress, bi_directional, stay, monogenic'),\n",
       " (90,\n",
       "  'refrigeration, corruption, cartridge, democratization, dt, sequence, tem, et, pedagogical, fail, corrupt, duty, interoperable, cold, superconductivity'),\n",
       " (91,\n",
       "  'vaccine, misinformation, vaccination, acceptance, si, silence, td, healthcare, lot, cold_chain, intellectual_disability, fire_safety, healthcare_professional, freeze_dry, stigma')]"
      ]
     },
     "execution_count": 131,
     "metadata": {},
     "output_type": "execute_result"
    }
   ],
   "source": [
    "tpc_descs = [el for el in tpc_descs if el[0] not in [0,1,2,3,4,5,6,85,89,92,93,94,95]]\n",
    "tpc_descs "
   ]
  }
 ],
 "metadata": {
  "kernelspec": {
   "display_name": "Python 3 (ipykernel)",
   "language": "python",
   "name": "python3"
  },
  "language_info": {
   "codemirror_mode": {
    "name": "ipython",
    "version": 3
   },
   "file_extension": ".py",
   "mimetype": "text/x-python",
   "name": "python",
   "nbconvert_exporter": "python",
   "pygments_lexer": "ipython3",
   "version": "3.10.11"
  }
 },
 "nbformat": 4,
 "nbformat_minor": 5
}
