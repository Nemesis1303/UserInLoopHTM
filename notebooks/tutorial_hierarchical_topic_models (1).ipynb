{
 "cells": [
  {
   "cell_type": "code",
   "execution_count": 1,
   "metadata": {},
   "outputs": [
    {
     "name": "stdout",
     "output_type": "stream",
     "text": [
      "Downloading https://raw.githubusercontent.com/BobXWu/TopMost/master/data/NYT.zip to ./datasets/NYT.zip\n"
     ]
    },
    {
     "name": "stderr",
     "output_type": "stream",
     "text": [
      "100%|██████████| 15070620/15070620 [00:01<00:00, 11511023.89it/s]\n"
     ]
    }
   ],
   "source": [
    "import topmost\n",
    "from topmost.data import download_dataset\n",
    "\n",
    "device = \"cuda\" # or \"cpu\"\n",
    "dataset_dir = \"./datasets/NYT\"\n",
    "download_dataset('NYT', cache_path='./datasets')"
   ]
  },
  {
   "cell_type": "code",
   "execution_count": 7,
   "metadata": {},
   "outputs": [
    {
     "name": "stdout",
     "output_type": "stream",
     "text": [
      "train_size:  52460\n",
      "test_size:  13116\n",
      "vocab_size:  10000\n",
      "average length: 74.651\n"
     ]
    }
   ],
   "source": [
    "# load a dataset\n",
    "#dataset = topmost.data.BasicDataset(dataset_dir, read_labels=True, device=device)\n",
    "\n",
    "dataset_dir = '/export/usuarios_ml4ds/lbartolome/Datasets/CORDIS/models_preproc/iter_0/topmost'\n",
    "dataset = topmost.data.BasicDataset(dataset_dir, read_labels=True, device=device)"
   ]
  },
  {
   "cell_type": "code",
   "execution_count": 8,
   "metadata": {},
   "outputs": [
    {
     "name": "stderr",
     "output_type": "stream",
     "text": [
      "                                                 \r"
     ]
    }
   ],
   "source": [
    "# create a model\n",
    "# model = topmost.models.SawETM(vocab_size=dataset.vocab_size, num_topics_list=[10, 50, 200], device=device)\n",
    "model = topmost.models.HyperMiner(vocab_size=dataset.vocab_size, num_topics_list=[10, 50], device=device)\n",
    "#model = topmost.models.HyperMiner(vocab_size=dataset.vocab_size, num_topics_list=[10, 50, 200], device=device)\n",
    "#topmost.models.TraCo(dataset.vocab_size, num_topics_list=[10, 50, 200], device=device)\n",
    "model = model.to(device)\n",
    "\n",
    "# create a trainer\n",
    "trainer = topmost.trainers.HierarchicalTrainer(model, dataset)\n",
    "# train the model\n",
    "top_words, train_theta = trainer.train()"
   ]
  },
  {
   "cell_type": "code",
   "execution_count": 9,
   "metadata": {},
   "outputs": [
    {
     "name": "stdout",
     "output_type": "stream",
     "text": [
      "TD: 0.7986666666666666\n",
      "{'Purity': 0.3528133577310155, 'NMI': 0.001190953938798616}\n",
      "{'acc': 0.3331427264409881, 'macro-F1': 0.3259473418185663}\n"
     ]
    }
   ],
   "source": [
    "########################### Evaluate ####################################\n",
    "import json\n",
    "import numpy as np\n",
    "from topmost import evaluations\n",
    "\n",
    "# get theta (doc-topic distributions)\n",
    "train_theta, test_theta = trainer.export_theta()\n",
    "\n",
    "# compute topic coherence\n",
    "# refer to https://github.com/BobXWu/ECRTM\n",
    "\n",
    "# compute topic diversity\n",
    "TD = evaluations.multiaspect_topic_diversity(top_words)\n",
    "print(f\"TD: {TD}\")\n",
    "\n",
    "# evaluate clustering\n",
    "results = evaluations.hierarchical_clustering(test_theta, dataset.test_labels)\n",
    "print(dict(results))\n",
    "\n",
    "# evaluate classification\n",
    "results = evaluations.hierarchical_classification(train_theta, test_theta, dataset.train_labels, dataset.test_labels)\n",
    "print(dict(results))"
   ]
  },
  {
   "cell_type": "code",
   "execution_count": 10,
   "metadata": {},
   "outputs": [
    {
     "name": "stderr",
     "output_type": "stream",
     "text": [
      "100%|██████████| 1/1 [00:03<00:00,  3.92s/it]"
     ]
    },
    {
     "name": "stdout",
     "output_type": "stream",
     "text": [
      "{\n",
      "    \"L-0_K-0 interaction mechanism factor determine imaging know insight play image important behaviour affect response resolution evolution\": [\n",
      "        \"L-1_K-38 determine know play insight affect hypothesis basis central suggest live ability consequence little crucial recognition\",\n",
      "        \"L-1_K-34 factor imaging image behaviour resolution nuclear pattern stress resonance family temporal translation spatial alzheimer risk\",\n",
      "        \"L-1_K-17 brain neuronal cognitive disorder visual motor tomography sensory neural mental synaptic neuroscience plasticity eye cortical\",\n",
      "        \"L-1_K-4 important recent remain importance investigation origin occur observe understanding composition reveal advance detail presence arise\",\n",
      "        \"L-1_K-35 mechanism response signal functional pathway induce underlie molecule mediate activation molecular circuit physiological characterize elucidate\"\n",
      "    ],\n",
      "    \"L-0_K-1 electric operation robotic transport sensor scalability real mobile flexible embed maintenance flow operate vehicle systems\": [\n",
      "        \"L-1_K-10 operation scalability flexible embed operate systems reliable layer functionality speed sensing modular heterogeneous continuous accuracy\",\n",
      "        \"L-1_K-7 maintenance device safe automatic market feasibility friendly remote safety textile profit technical cost commercial workflow\",\n",
      "        \"L-1_K-12 robotic mobile hardware wireless traffic autonomous satellite road deploy computing smart transportation service navigation software\",\n",
      "        \"L-1_K-15 engine wind battery composite aircraft internal weight noise reduction air automotive turbine fibre combustion flight\",\n",
      "        \"L-1_K-19 real artificial feedback big sound home data reality world uncertainty datum video intelligence mining interactive\"\n",
      "    ],\n",
      "    \"L-0_K-2 cellular disease genetic protein cancer treatment patient therapeutic mechanism acid cell drug clinical tissue molecule\": [\n",
      "        \"L-1_K-14 cellular protein cell tissue membrane metabolic immune mouse vivo stem receptor differentiation model factor organ\",\n",
      "        \"L-1_K-29 disease cancer treatment patient therapeutic clinical drug diagnosis tumor medicine biomarker blood chronic medical trial\",\n",
      "        \"L-1_K-23 genetic acid genomic deoxyribonucleic bacterial expression infection ribonucleic resistance gene pathogen disease sequence virus epigenetic\",\n",
      "        \"L-1_K-35 mechanism response signal functional pathway induce underlie molecule mediate activation molecular circuit physiological characterize elucidate\",\n",
      "        \"L-1_K-48 molecule detection biological structure chemical assembly synthetic compound microscopy enzyme sensitivity single bind peptide throughput\"\n",
      "    ],\n",
      "    \"L-0_K-3 major need health condition help ultrasound represent critical site evaluate well rate healthcare cause stage\": [\n",
      "        \"L-1_K-47 major help ultrasound represent well guide post maintain responsible association spread respond significant balance understanding\",\n",
      "        \"L-1_K-25 critical cause edge loss damage cut failure prevent protect positive negative repair integrity severe systemic\",\n",
      "        \"L-1_K-37 health healthcare age life population medical quality exposure early healthy prevention outcome hospital obesity ageing\",\n",
      "        \"L-1_K-28 need condition site evaluate rate stage associate outcome primary available adapt monitor rapid appropriate identification\",\n",
      "        \"L-1_K-16 need condition site rate evaluate stage associate available primary monitor adapt outcome rapid appropriate option\"\n",
      "    ],\n",
      "    \"L-0_K-4 different particular interaction aspect general important ground deep consider hand variety recent language example past\": [\n",
      "        \"L-1_K-44 different particular aspect general consider hand variety example interest characteristic way subject connection possible kind\",\n",
      "        \"L-1_K-49 ground deep past break map record shift code track bridge landscape gap constraint fill core\",\n",
      "        \"L-1_K-26 geometry description dimensional theory computer equation classical modelling mechanic linear geometric dynamical finite simulation describe\",\n",
      "        \"L-1_K-8 language observation child learning machine search galaxy star semantic linguistic dark universe speech black collider\",\n",
      "        \"L-1_K-4 important recent remain importance investigation origin occur observe understanding composition reveal advance detail presence arise\"\n",
      "    ],\n",
      "    \"L-0_K-5 energy main need produce source term value expect able component line point way efficiency end\": [\n",
      "        \"L-1_K-40 need expect able point way end number successful consist follow available step mean long core\",\n",
      "        \"L-1_K-9 need expect able way point end number step successful available consist follow necessary mean complete\",\n",
      "        \"L-1_K-43 main produce source term value line alternative short goal objective add chain achieve ultimate paper\",\n",
      "        \"L-1_K-1 need expect point able way end number successful step consist available follow necessary mean core\",\n",
      "        \"L-1_K-46 energy efficiency storage consumption renewable grid supply electricity reduction power saving clean store building residential\"\n",
      "    ],\n",
      "    \"L-0_K-6 novel control allow non range combine generate unique computation perform physical single combination direct active\": [\n",
      "        \"L-1_K-18 novel non range computation high mass wide channel broad parallel spectrum employ basic encompass span\",\n",
      "        \"L-1_K-30 allow combine generate unique perform single combination direct multiple element obtain feature step distribution sample\",\n",
      "        \"L-1_K-0 exploit limit class stability promise block display erc stable inspire promising tailor route tackle building\",\n",
      "        \"L-1_K-5 allow combine unique generate perform single direct combination multiple element obtain feature step sample distribution\",\n",
      "        \"L-1_K-3 allow combine generate unique perform direct single combination multiple element obtain step feature sample distribution\"\n",
      "    ],\n",
      "    \"L-0_K-7 water climate food carbon change emission dioxide waste fuel gas temperature solar heat thermal cycle\": [\n",
      "        \"L-1_K-45 waste bio chemical plastic plant raw packaging oil recycling biomass material recovery pollution planet organic\",\n",
      "        \"L-1_K-41 water climate food carbon change dioxide cycle natural extreme atmospheric mitigation atmosphere adaptation weather hazard\",\n",
      "        \"L-1_K-6 emission fuel gas temperature solar heat thermal hydrogen pressure air conversion heating reduction efficiency cool\",\n",
      "        \"L-1_K-20 agriculture earth marine soil farming ocean land sea biodiversity forest ecological fish ecosystem crop isotope\",\n",
      "        \"L-1_K-15 engine wind battery composite aircraft internal weight noise reduction air automotive turbine fibre combustion flight\"\n",
      "    ],\n",
      "    \"L-0_K-8 cross way attention place seek right university concern public broad conduct choice central diverse collection\": [\n",
      "        \"L-1_K-32 university public firm course open private access dissemination peer country capital mutual international administration career\",\n",
      "        \"L-1_K-24 cross way attention place seek concern broad right conduct diverse choice central contribution collection framework\",\n",
      "        \"L-1_K-22 cross way attention place right seek concern broad choice conduct central framework collection diverse contribution\",\n",
      "        \"L-1_K-13 social archaeology ancient political eastern cultural east heritage socio south north europe humanity united foreign\",\n",
      "        \"L-1_K-47 major help ultrasound represent well guide post maintain responsible association spread respond significant balance understanding\"\n",
      "    ],\n",
      "    \"L-0_K-9 molecule quantum light control surface electric optic chemical magnetic metal detection catalysis transport matter reaction\": [\n",
      "        \"L-1_K-36 surface metal catalysis reaction organic polymer synthesis nanoparticle chemical film liquid substrate coating soft layer\",\n",
      "        \"L-1_K-11 light optic laser frequency ray chip photonic wave ultra optical semiconductor radiation silicon pulse beam\",\n",
      "        \"L-1_K-31 quantum magnetic matter particle spin electron atom phase ion measurement probe coupling state field single\",\n",
      "        \"L-1_K-48 molecule detection biological structure chemical assembly synthetic compound microscopy enzyme sensitivity single bind peptide throughput\",\n",
      "        \"L-1_K-21 electric transport sensor flow vehicle hybrid fluid charge density voltage turbulence dynamic power turbulent electronics\"\n",
      "    ]\n",
      "}\n",
      "{'PCC': -0.09591256886234938, 'PCD': 0.7506666666666666, 'Sibling_TD': 0.8340000000000001, 'PnCD': 0.9937777777777779}\n"
     ]
    },
    {
     "name": "stderr",
     "output_type": "stream",
     "text": [
      "\n"
     ]
    }
   ],
   "source": [
    "# evaluate quality of topic hierarchy\n",
    "beta_list = trainer.get_beta()\n",
    "phi_list = trainer.get_phi()\n",
    "annoated_top_words = trainer.get_top_words(annotation=True)\n",
    "reference_bow = np.concatenate((dataset.train_bow, dataset.test_bow), axis=0) # or reference_bow = train_bow\n",
    "results, topic_hierarchy = evaluations.hierarchy_quality(dataset.vocab, reference_bow, annoated_top_words, beta_list, phi_list)\n",
    "\n",
    "print(json.dumps(topic_hierarchy, indent=4))\n",
    "print(results)"
   ]
  },
  {
   "cell_type": "code",
   "execution_count": 6,
   "metadata": {},
   "outputs": [],
   "source": [
    "import pickle\n",
    "\n",
    "save_data = {\n",
    "    \"model_state_dict\": model.state_dict(),\n",
    "    \"trainer_config\": {\n",
    "        \"vocab_size\": dataset.vocab_size,\n",
    "        \"num_topics_list\": [10, 50, 200],\n",
    "    },\n",
    "    \"top_words\": top_words,\n",
    "    \"train_theta\": train_theta,\n",
    "    \"test_theta\": test_theta,\n",
    "    \"beta_list\": beta_list,\n",
    "    \"phi_list\": phi_list,\n",
    "    \"annotated_top_words\": trainer.get_top_words(annotation=True),\n",
    "    \"topic_hierarchy\": topic_hierarchy,\n",
    "    \"hierarchy_quality_results\": results,\n",
    "    \"topic_diversity\": TD,\n",
    "}\n",
    "\n",
    "# Save the dataset and preprocessing results for reproducibility\n",
    "save_data[\"dataset\"] = {\n",
    "    \"vocab\": dataset.vocab,\n",
    "    \"train_bow\": dataset.train_bow,\n",
    "    \"test_bow\": dataset.test_bow,\n",
    "}\n",
    "\n",
    "# Save all data to a pickle file\n",
    "with open(\"trained_model_full_.pkl\", \"wb\") as f:\n",
    "    pickle.dump(save_data, f)"
   ]
  }
 ],
 "metadata": {
  "kernelspec": {
   "display_name": "Python 3 (ipykernel)",
   "language": "python",
   "name": "python3"
  },
  "language_info": {
   "codemirror_mode": {
    "name": "ipython",
    "version": 3
   },
   "file_extension": ".py",
   "mimetype": "text/x-python",
   "name": "python",
   "nbconvert_exporter": "python",
   "pygments_lexer": "ipython3",
   "version": "3.10.9"
  }
 },
 "nbformat": 4,
 "nbformat_minor": 4
}
