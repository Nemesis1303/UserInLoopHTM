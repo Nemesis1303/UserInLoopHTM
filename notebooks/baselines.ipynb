{
 "cells": [
  {
   "cell_type": "code",
   "execution_count": 153,
   "id": "a4d44378-2df3-404c-8cbf-ba68a68dcfcc",
   "metadata": {},
   "outputs": [],
   "source": [
    "import pickle\n",
    "import time as timer\n",
    "import pathlib\n",
    "import numpy as np\n",
    "import pandas as pd\n",
    "from scipy.sparse import csr_matrix\n",
    "from sklearn.feature_extraction.text import CountVectorizer\n",
    "from collections import defaultdict"
   ]
  },
  {
   "cell_type": "code",
   "execution_count": 154,
   "id": "538b0897-698d-422a-97eb-1f1b5a5681a6",
   "metadata": {},
   "outputs": [],
   "source": [
    "#model_path = \"/export/usuarios_ml4ds/lbartolome/Datasets/CORDIS/models_preproc/iter_0\"\n",
    "model_path = \"/export/usuarios_ml4ds/lbartolome/Datasets/Cancer/models_preproc/iter_0\""
   ]
  },
  {
   "cell_type": "markdown",
   "id": "1ebba846-a8bb-4c50-ad2a-ad11680eaf3f",
   "metadata": {},
   "source": [
    "## Load corpus"
   ]
  },
  {
   "cell_type": "code",
   "execution_count": 155,
   "id": "f7c53a86-f745-4f05-8e2b-8acdcf1ee67e",
   "metadata": {},
   "outputs": [],
   "source": [
    "def mallet_corpus_to_df(corpusFile: pathlib.Path):\n",
    "    \"\"\"Converts a Mallet corpus file (i.e., file required for the Mallet import command) to a pandas DataFrame\n",
    "\n",
    "    Parameters\n",
    "    ----------\n",
    "    corpusFile: pathlib.Path\n",
    "        Path to the Mallet corpus file\n",
    "\n",
    "    Returns\n",
    "    -------\n",
    "    :   pandas.DataFrame\n",
    "        DataFrame with the corpus\n",
    "    \"\"\"\n",
    "\n",
    "    corpus = [line.rsplit(' 0 ')[1].strip() for line in open(\n",
    "        corpusFile, encoding=\"utf-8\").readlines()]\n",
    "    indexes = [line.rsplit(' 0 ')[0].strip() for line in open(\n",
    "        corpusFile, encoding=\"utf-8\").readlines()]\n",
    "    corpus_dict = {\n",
    "        'id': indexes,\n",
    "        'text': corpus\n",
    "    }\n",
    "    return pd.DataFrame(corpus_dict)"
   ]
  },
  {
   "cell_type": "code",
   "execution_count": 156,
   "id": "b6eec592-83b4-4943-9557-76fbf8ff9f95",
   "metadata": {},
   "outputs": [
    {
     "data": {
      "text/html": [
       "<div>\n",
       "<style scoped>\n",
       "    .dataframe tbody tr th:only-of-type {\n",
       "        vertical-align: middle;\n",
       "    }\n",
       "\n",
       "    .dataframe tbody tr th {\n",
       "        vertical-align: top;\n",
       "    }\n",
       "\n",
       "    .dataframe thead th {\n",
       "        text-align: right;\n",
       "    }\n",
       "</style>\n",
       "<table border=\"1\" class=\"dataframe\">\n",
       "  <thead>\n",
       "    <tr style=\"text-align: right;\">\n",
       "      <th></th>\n",
       "      <th>id</th>\n",
       "      <th>text</th>\n",
       "    </tr>\n",
       "  </thead>\n",
       "  <tbody>\n",
       "    <tr>\n",
       "      <th>0</th>\n",
       "      <td>44901896</td>\n",
       "      <td>ribonucleic_acid meet train jena participant j...</td>\n",
       "    </tr>\n",
       "    <tr>\n",
       "      <th>1</th>\n",
       "      <td>46156343</td>\n",
       "      <td>prostate degarelix gonadotropin_release hormon...</td>\n",
       "    </tr>\n",
       "    <tr>\n",
       "      <th>2</th>\n",
       "      <td>29070965</td>\n",
       "      <td>intestinal_microflora necessary spontaneous ad...</td>\n",
       "    </tr>\n",
       "    <tr>\n",
       "      <th>3</th>\n",
       "      <td>22277284</td>\n",
       "      <td>identification co_repressor inhibitor transcri...</td>\n",
       "    </tr>\n",
       "    <tr>\n",
       "      <th>4</th>\n",
       "      <td>218582103</td>\n",
       "      <td>immune modulation properties zoledronic_acid t...</td>\n",
       "    </tr>\n",
       "    <tr>\n",
       "      <th>...</th>\n",
       "      <td>...</td>\n",
       "      <td>...</td>\n",
       "    </tr>\n",
       "    <tr>\n",
       "      <th>1505173</th>\n",
       "      <td>18071839</td>\n",
       "      <td>messenger_ribonucleic acid electroporation eff...</td>\n",
       "    </tr>\n",
       "    <tr>\n",
       "      <th>1505174</th>\n",
       "      <td>33987835</td>\n",
       "      <td>frequency mismatch_repair deficiency pediatric...</td>\n",
       "    </tr>\n",
       "    <tr>\n",
       "      <th>1505175</th>\n",
       "      <td>23158902</td>\n",
       "      <td>silence enhances vitro vivo osteogenic_differe...</td>\n",
       "    </tr>\n",
       "    <tr>\n",
       "      <th>1505176</th>\n",
       "      <td>201042517</td>\n",
       "      <td>phase_ib durvalumab combination trastuzumab me...</td>\n",
       "    </tr>\n",
       "    <tr>\n",
       "      <th>1505177</th>\n",
       "      <td>35613622</td>\n",
       "      <td>benefit call solar_keratosis squamous_cell_car...</td>\n",
       "    </tr>\n",
       "  </tbody>\n",
       "</table>\n",
       "<p>1505178 rows × 2 columns</p>\n",
       "</div>"
      ],
      "text/plain": [
       "                id                                               text\n",
       "0         44901896  ribonucleic_acid meet train jena participant j...\n",
       "1         46156343  prostate degarelix gonadotropin_release hormon...\n",
       "2         29070965  intestinal_microflora necessary spontaneous ad...\n",
       "3         22277284  identification co_repressor inhibitor transcri...\n",
       "4        218582103  immune modulation properties zoledronic_acid t...\n",
       "...            ...                                                ...\n",
       "1505173   18071839  messenger_ribonucleic acid electroporation eff...\n",
       "1505174   33987835  frequency mismatch_repair deficiency pediatric...\n",
       "1505175   23158902  silence enhances vitro vivo osteogenic_differe...\n",
       "1505176  201042517  phase_ib durvalumab combination trastuzumab me...\n",
       "1505177   35613622  benefit call solar_keratosis squamous_cell_car...\n",
       "\n",
       "[1505178 rows x 2 columns]"
      ]
     },
     "execution_count": 156,
     "metadata": {},
     "output_type": "execute_result"
    }
   ],
   "source": [
    "path_corpus = pathlib.Path(model_path) / \"corpus.txt\"\n",
    "df = mallet_corpus_to_df(path_corpus)\n",
    "df"
   ]
  },
  {
   "cell_type": "code",
   "execution_count": 157,
   "id": "aa746feb-18e3-4df6-a3dc-ddb2b4773574",
   "metadata": {},
   "outputs": [
    {
     "name": "stdout",
     "output_type": "stream",
     "text": [
      "Kept 15051 docus\n"
     ]
    }
   ],
   "source": [
    "print(f\"Kept {int((len(df) / 100))} docus\")"
   ]
  },
  {
   "cell_type": "code",
   "execution_count": 137,
   "id": "50d45f3c-dd9e-4720-9b6c-92acfa09b608",
   "metadata": {},
   "outputs": [],
   "source": [
    "df = df.iloc[0: int((len(df) / 100))]"
   ]
  },
  {
   "cell_type": "code",
   "execution_count": 138,
   "id": "f84e0a76-b9ef-4d2d-96ba-871ded40d00a",
   "metadata": {},
   "outputs": [
    {
     "data": {
      "text/html": [
       "<div>\n",
       "<style scoped>\n",
       "    .dataframe tbody tr th:only-of-type {\n",
       "        vertical-align: middle;\n",
       "    }\n",
       "\n",
       "    .dataframe tbody tr th {\n",
       "        vertical-align: top;\n",
       "    }\n",
       "\n",
       "    .dataframe thead th {\n",
       "        text-align: right;\n",
       "    }\n",
       "</style>\n",
       "<table border=\"1\" class=\"dataframe\">\n",
       "  <thead>\n",
       "    <tr style=\"text-align: right;\">\n",
       "      <th></th>\n",
       "      <th>id</th>\n",
       "      <th>text</th>\n",
       "    </tr>\n",
       "  </thead>\n",
       "  <tbody>\n",
       "    <tr>\n",
       "      <th>0</th>\n",
       "      <td>234639473</td>\n",
       "      <td>remark speech_recognition tea sources sensor s...</td>\n",
       "    </tr>\n",
       "    <tr>\n",
       "      <th>1</th>\n",
       "      <td>61407153</td>\n",
       "      <td>signal improvement holographic storage adaptiv...</td>\n",
       "    </tr>\n",
       "    <tr>\n",
       "      <th>2</th>\n",
       "      <td>255080817</td>\n",
       "      <td>data_drive condition monitoring industrial equ...</td>\n",
       "    </tr>\n",
       "    <tr>\n",
       "      <th>3</th>\n",
       "      <td>229290883</td>\n",
       "      <td>gaze self identification play computer_vision ...</td>\n",
       "    </tr>\n",
       "    <tr>\n",
       "      <th>4</th>\n",
       "      <td>51877396</td>\n",
       "      <td>voices social communities case kaohsiung advan...</td>\n",
       "    </tr>\n",
       "    <tr>\n",
       "      <th>...</th>\n",
       "      <td>...</td>\n",
       "      <td>...</td>\n",
       "    </tr>\n",
       "    <tr>\n",
       "      <th>15693</th>\n",
       "      <td>251946880</td>\n",
       "      <td>molecular automated speech_recognition optical...</td>\n",
       "    </tr>\n",
       "    <tr>\n",
       "      <th>15694</th>\n",
       "      <td>219860778</td>\n",
       "      <td>probabilistic sequential optimization cnn netw...</td>\n",
       "    </tr>\n",
       "    <tr>\n",
       "      <th>15695</th>\n",
       "      <td>60313186</td>\n",
       "      <td>motion coordination robots study cooperative b...</td>\n",
       "    </tr>\n",
       "    <tr>\n",
       "      <th>15696</th>\n",
       "      <td>54449907</td>\n",
       "      <td>genetic_algorithm fusion grammar level multimo...</td>\n",
       "    </tr>\n",
       "    <tr>\n",
       "      <th>15697</th>\n",
       "      <td>17900864</td>\n",
       "      <td>stretch limit decompose hard easy modularisati...</td>\n",
       "    </tr>\n",
       "  </tbody>\n",
       "</table>\n",
       "<p>15698 rows × 2 columns</p>\n",
       "</div>"
      ],
      "text/plain": [
       "              id                                               text\n",
       "0      234639473  remark speech_recognition tea sources sensor s...\n",
       "1       61407153  signal improvement holographic storage adaptiv...\n",
       "2      255080817  data_drive condition monitoring industrial equ...\n",
       "3      229290883  gaze self identification play computer_vision ...\n",
       "4       51877396  voices social communities case kaohsiung advan...\n",
       "...          ...                                                ...\n",
       "15693  251946880  molecular automated speech_recognition optical...\n",
       "15694  219860778  probabilistic sequential optimization cnn netw...\n",
       "15695   60313186  motion coordination robots study cooperative b...\n",
       "15696   54449907  genetic_algorithm fusion grammar level multimo...\n",
       "15697   17900864  stretch limit decompose hard easy modularisati...\n",
       "\n",
       "[15698 rows x 2 columns]"
      ]
     },
     "execution_count": 138,
     "metadata": {},
     "output_type": "execute_result"
    }
   ],
   "source": [
    "df"
   ]
  },
  {
   "cell_type": "markdown",
   "id": "f122a141-bce7-4b78-bdbd-a53eb3d68c70",
   "metadata": {},
   "source": [
    "### Prepare corpus for topmost"
   ]
  },
  {
   "cell_type": "code",
   "execution_count": 139,
   "id": "59599744-35a7-4870-a2ff-68936d580fae",
   "metadata": {},
   "outputs": [
    {
     "data": {
      "text/plain": [
       "False"
      ]
     },
     "execution_count": 139,
     "metadata": {},
     "output_type": "execute_result"
    }
   ],
   "source": [
    "len(df) == (len(train_df) + len(test_df))"
   ]
  },
  {
   "cell_type": "code",
   "execution_count": 140,
   "id": "701882af-9498-46b6-9c23-973f9f1ad5be",
   "metadata": {},
   "outputs": [
    {
     "data": {
      "text/html": [
       "<div>\n",
       "<style scoped>\n",
       "    .dataframe tbody tr th:only-of-type {\n",
       "        vertical-align: middle;\n",
       "    }\n",
       "\n",
       "    .dataframe tbody tr th {\n",
       "        vertical-align: top;\n",
       "    }\n",
       "\n",
       "    .dataframe thead th {\n",
       "        text-align: right;\n",
       "    }\n",
       "</style>\n",
       "<table border=\"1\" class=\"dataframe\">\n",
       "  <thead>\n",
       "    <tr style=\"text-align: right;\">\n",
       "      <th></th>\n",
       "      <th>id</th>\n",
       "      <th>text</th>\n",
       "    </tr>\n",
       "  </thead>\n",
       "  <tbody>\n",
       "    <tr>\n",
       "      <th>5446</th>\n",
       "      <td>28962572</td>\n",
       "      <td>phase multicenter blind sequential dose_escala...</td>\n",
       "    </tr>\n",
       "    <tr>\n",
       "      <th>6843</th>\n",
       "      <td>11770120</td>\n",
       "      <td>evolution vitamin vitamin_d second decade cent...</td>\n",
       "    </tr>\n",
       "    <tr>\n",
       "      <th>12957</th>\n",
       "      <td>1198705</td>\n",
       "      <td>lung non_hodgkin_lymphoma lymphoma elderly non...</td>\n",
       "    </tr>\n",
       "    <tr>\n",
       "      <th>8759</th>\n",
       "      <td>16837459</td>\n",
       "      <td>tolfenamic_acid pancreatic radiotherapy inhibi...</td>\n",
       "    </tr>\n",
       "    <tr>\n",
       "      <th>5168</th>\n",
       "      <td>25687389</td>\n",
       "      <td>maspin pleomorphic_adenoma aim presence distri...</td>\n",
       "    </tr>\n",
       "    <tr>\n",
       "      <th>...</th>\n",
       "      <td>...</td>\n",
       "      <td>...</td>\n",
       "    </tr>\n",
       "    <tr>\n",
       "      <th>5191</th>\n",
       "      <td>207574910</td>\n",
       "      <td>preserve diagnosis dual source computed_tomogr...</td>\n",
       "    </tr>\n",
       "    <tr>\n",
       "      <th>13418</th>\n",
       "      <td>23415724</td>\n",
       "      <td>sex_cord stromal investigation retrospective s...</td>\n",
       "    </tr>\n",
       "    <tr>\n",
       "      <th>5390</th>\n",
       "      <td>38957431</td>\n",
       "      <td>hypereosinophilic paraneoplastic_syndrome comp...</td>\n",
       "    </tr>\n",
       "    <tr>\n",
       "      <th>860</th>\n",
       "      <td>212640133</td>\n",
       "      <td>update implication cyclin melanoma cyclin prot...</td>\n",
       "    </tr>\n",
       "    <tr>\n",
       "      <th>7270</th>\n",
       "      <td>24997868</td>\n",
       "      <td>azithromycin decrease crevicular_fluid mediato...</td>\n",
       "    </tr>\n",
       "  </tbody>\n",
       "</table>\n",
       "<p>13545 rows × 2 columns</p>\n",
       "</div>"
      ],
      "text/plain": [
       "              id                                               text\n",
       "5446    28962572  phase multicenter blind sequential dose_escala...\n",
       "6843    11770120  evolution vitamin vitamin_d second decade cent...\n",
       "12957    1198705  lung non_hodgkin_lymphoma lymphoma elderly non...\n",
       "8759    16837459  tolfenamic_acid pancreatic radiotherapy inhibi...\n",
       "5168    25687389  maspin pleomorphic_adenoma aim presence distri...\n",
       "...          ...                                                ...\n",
       "5191   207574910  preserve diagnosis dual source computed_tomogr...\n",
       "13418   23415724  sex_cord stromal investigation retrospective s...\n",
       "5390    38957431  hypereosinophilic paraneoplastic_syndrome comp...\n",
       "860    212640133  update implication cyclin melanoma cyclin prot...\n",
       "7270    24997868  azithromycin decrease crevicular_fluid mediato...\n",
       "\n",
       "[13545 rows x 2 columns]"
      ]
     },
     "execution_count": 140,
     "metadata": {},
     "output_type": "execute_result"
    }
   ],
   "source": [
    "train_df"
   ]
  },
  {
   "cell_type": "code",
   "execution_count": 128,
   "id": "d2a69b40-f476-4138-9720-56cbf2dc3ac1",
   "metadata": {},
   "outputs": [
    {
     "name": "stdout",
     "output_type": "stream",
     "text": [
      "Training data saved to /export/usuarios_ml4ds/lbartolome/Datasets/Cancer/models_preproc/iter_0/topmost/train.jsonlist\n",
      "Testing data saved to /export/usuarios_ml4ds/lbartolome/Datasets/Cancer/models_preproc/iter_0/topmost/test.jsonlist\n"
     ]
    }
   ],
   "source": [
    "import json\n",
    "from sklearn.model_selection import train_test_split\n",
    "import random\n",
    "\n",
    "# Split the data into train and test sets (e.g., 80% train, 20% test)\n",
    "train_df, test_df = train_test_split(df, test_size=0.1, random_state=42)\n",
    "\n",
    "possible_labels = [\"A\", \"B\", \"C\"]\n",
    "\n",
    "# Convert the train and test DataFrames to lists of JSON objects with random labels\n",
    "train_json = train_df.apply(\n",
    "    lambda row: {\"label\": random.choice(possible_labels), \"text\": row['text']}, axis=1\n",
    ").tolist()\n",
    "test_json = test_df.apply(\n",
    "    lambda row: {\"label\": random.choice(possible_labels), \"text\": row['text']}, axis=1\n",
    ").tolist()\n",
    "\n",
    "# Save the list to a JSON file\n",
    "output_path = '/export/usuarios_ml4ds/lbartolome/Datasets/Cancer/models_preproc/iter_0/topmost/'\n",
    "# Save the train and test JSON lists to separate files\n",
    "train_output_path = output_path + 'train.jsonlist'\n",
    "test_output_path = output_path + 'test.jsonlist'\n",
    "\n",
    "with open(train_output_path, 'w') as train_file:\n",
    "    for item in train_json:\n",
    "        train_file.write(json.dumps(item) + '\\n')\n",
    "\n",
    "with open(test_output_path, 'w') as test_file:\n",
    "    for item in test_json:\n",
    "        test_file.write(json.dumps(item) + '\\n')\n",
    "\n",
    "print(f\"Training data saved to {train_output_path}\")\n",
    "print(f\"Testing data saved to {test_output_path}\")"
   ]
  },
  {
   "cell_type": "markdown",
   "id": "d2958cad-ed41-43d9-9fb9-702cd790503a",
   "metadata": {},
   "source": [
    "## Load vocabulary and BoW"
   ]
  },
  {
   "cell_type": "code",
   "execution_count": 129,
   "id": "8884223d-02c7-410c-af2f-949149680eec",
   "metadata": {},
   "outputs": [],
   "source": [
    "vocab_w2id = {}\n",
    "with (pathlib.Path(model_path)/'vocabulary.txt').open('r', encoding='utf8') as fin:\n",
    "    for i, line in enumerate(fin):\n",
    "        wd = line.strip()\n",
    "        vocab_w2id[wd] = i"
   ]
  },
  {
   "cell_type": "code",
   "execution_count": 130,
   "id": "a7eca220-6dc2-487f-a606-c5e6f5aa4b32",
   "metadata": {},
   "outputs": [
    {
     "data": {
      "text/plain": [
       "100000"
      ]
     },
     "execution_count": 130,
     "metadata": {},
     "output_type": "execute_result"
    }
   ],
   "source": [
    "len(vocab_w2id)"
   ]
  },
  {
   "cell_type": "code",
   "execution_count": 131,
   "id": "6988c094-f4a5-4187-ae41-d9696d8fc2e2",
   "metadata": {},
   "outputs": [
    {
     "name": "stderr",
     "output_type": "stream",
     "text": [
      "/home/lbartolome/.local/lib/python3.10/site-packages/sklearn/feature_extraction/text.py:525: UserWarning: The parameter 'token_pattern' will not be used since 'tokenizer' is not None'\n",
      "  warnings.warn(\n"
     ]
    }
   ],
   "source": [
    "vectorizer = CountVectorizer(tokenizer=lambda x: x.split())\n",
    "bow = vectorizer.fit_transform(df.text.values.tolist())\n",
    "bow = bow.toarray()"
   ]
  },
  {
   "cell_type": "code",
   "execution_count": 132,
   "id": "1a07f328-63ba-4333-8ce0-ba98a7dd6d6c",
   "metadata": {},
   "outputs": [
    {
     "data": {
      "text/plain": [
       "(15051, 50711)"
      ]
     },
     "execution_count": 132,
     "metadata": {},
     "output_type": "execute_result"
    }
   ],
   "source": [
    "bow.shape"
   ]
  }
 ],
 "metadata": {
  "kernelspec": {
   "display_name": "prueba",
   "language": "python",
   "name": "prueba"
  },
  "language_info": {
   "codemirror_mode": {
    "name": "ipython",
    "version": 3
   },
   "file_extension": ".py",
   "mimetype": "text/x-python",
   "name": "python",
   "nbconvert_exporter": "python",
   "pygments_lexer": "ipython3",
   "version": "3.10.9"
  }
 },
 "nbformat": 4,
 "nbformat_minor": 5
}
